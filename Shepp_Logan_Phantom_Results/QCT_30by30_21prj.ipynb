{
 "cells": [
  {
   "cell_type": "code",
   "execution_count": 2,
   "id": "5ce74f3d",
   "metadata": {},
   "outputs": [
    {
     "data": {
      "image/png": "[encoded data removed]",
      "text/plain": [
       "<Figure size 432x288 with 1 Axes>"
      ]
     },
     "metadata": {
      "needs_background": "light"
     },
     "output_type": "display_data"
    },
    {
     "name": "stdout",
     "output_type": "stream",
     "text": [
      "[0.0, 1.0]\n",
      "Total projections =  21.0\n",
      "0\n",
      "1\n",
      "2\n",
      "3\n",
      "4\n",
      "5\n",
      "6\n",
      "7\n",
      "8\n",
      "9\n",
      "10\n",
      "11\n",
      "12\n",
      "13\n",
      "14\n",
      "15\n",
      "16\n",
      "17\n",
      "18\n",
      "19\n",
      "20\n"
     ]
    }
   ],
   "source": [
    "import numpy as np\n",
    "import matplotlib.pyplot as plt\n",
    "\n",
    "from skimage.data import shepp_logan_phantom\n",
    "from skimage.transform import rescale, radon, iradon\n",
    "import cv2\n",
    "\n",
    "def add_QUBO(position, values, sinogram_values):\n",
    "    linear = np.square(values) # ok\n",
    "    tmp1 = values*np.transpose(values) # ok\n",
    "    tmp2 = np.ones(np.size(position)) - np.eye(np.size(position)) # ok\n",
    "    tmp3 = linear - 2*sinogram_values*values\n",
    "    return np.triu(2*np.multiply(tmp1,tmp2)+np.diag(tmp3.flatten()))\n",
    "\n",
    "num_qb = 1\n",
    "nx = 30\n",
    "pad = 20\n",
    "phantom = shepp_logan_phantom() # 400 x 400\n",
    "phantom = rescale(phantom, nx/400) # 100 x 100\n",
    "sol_phantom = phantom\n",
    "phantom = np.pad(phantom, ((pad,pad),(pad,pad)))\n",
    "\n",
    "dnx = 21\n",
    "dtheta = 180/dnx\n",
    "max_angle = 180\n",
    "tnp = max_angle/dtheta\n",
    "theta = np.arange(0, 180, dtheta)\n",
    "\n",
    "fn_phantom = np.zeros((nx+2*pad,nx+2*pad))\n",
    "for j in range(0,nx):\n",
    "    for i in range(0,nx):\n",
    "        if phantom[i+pad][j+pad] > 0.1:\n",
    "            fn_phantom[i+pad][j+pad] = 1\n",
    "sino = radon(fn_phantom, theta)\n",
    "\n",
    "plt.figure()           \n",
    "plt.title('Phantom Image')\n",
    "plt.imshow(fn_phantom, vmin=0, vmax=pow(2, num_qb)-1)\n",
    "plt.show()\n",
    "sort_ph = sorted(np.unique(fn_phantom))\n",
    "print(sort_ph)\n",
    "\n",
    "print('Total projections = ', tnp)\n",
    "QM = np.zeros((num_qb*nx**2,num_qb*nx**2))\n",
    "Fin_Min = tnp\n",
    "num_row = num_qb*nx\n",
    "for sino_ny in range(0,int(tnp)):\n",
    "    print(sino_ny)   # 여기 ny 찍기\n",
    "    temp_theta = [theta[sino_ny]]\n",
    "    for sino_nx in range(0,nx+2*pad):\n",
    "#        print(sino_nx)   # 여기 nx 찍기\n",
    "#        if sino[sino_nx][sino_ny] == 0:\n",
    "#            continue\n",
    "        Arr_pos = np.array([])\n",
    "        Arr_val = np.array([])\n",
    "        for j in range(0,nx):\n",
    "            for i in range(0,nx):\n",
    "                G = np.zeros((nx+2*pad,nx+2*pad))\n",
    "                G[i+pad][j+pad] = 1\n",
    "                R = radon(G, temp_theta) \n",
    "                for qb in range(0, num_qb):\n",
    "                    Arr_pos = np.append(Arr_pos, np.array(i+num_row*(j)))\n",
    "                    Arr_val = np.append(Arr_val, pow(2,qb)*np.array(R[sino_nx][0]))\n",
    "        sino_val = sino[sino_nx][sino_ny]\n",
    "        QM = QM + add_QUBO(Arr_pos.reshape(-1,1), Arr_val.reshape(-1,1), sino_val)\n",
    "        Fin_Min -= sino_val**2"
   ]
  },
  {
   "cell_type": "code",
   "execution_count": 3,
   "id": "95b59d58",
   "metadata": {},
   "outputs": [
    {
     "name": "stdout",
     "output_type": "stream",
     "text": [
      "By using the matrix Q, the obtained value x^TQx =  -157920.25285132905\n",
      "  q001 q002 q003 q004 q005 q006 q007 q008 q009 ... q900         energy num_oc.\n",
      "0    0    0    0    0    0    0    0    0    0 ...    0 -157920.251854       1\n",
      "['BINARY', 1 rows, 1 samples, 900 variables]\n"
     ]
    }
   ],
   "source": [
    "T = np.zeros((num_qb*nx**2,1))\n",
    "for j in range(0,nx):\n",
    "    for i in range(0,nx):\n",
    "        Val_fn_pt = fn_phantom[i+pad][j+pad]\n",
    "        for k in range(0, num_qb):\n",
    "            temp_val = divmod(Val_fn_pt,2)\n",
    "            Val_fn_pt = temp_val[0]\n",
    "            T[i*num_qb + j*num_qb*nx + k] = temp_val[1]\n",
    "            \n",
    "tmp1 = np.matmul(np.transpose(T),QM)\n",
    "tmp2 = np.matmul(tmp1,T)\n",
    "\n",
    "print('By using the matrix Q, the obtained value x^TQx = ', tmp2.item())\n",
    "\n",
    "def Q_mat(qubits,QM):\n",
    "    max_d = format(len(str(qubits)), '02')\n",
    "    \n",
    "    # linear terms\n",
    "    Q = {}\n",
    "    for i in range(qubits): \n",
    "        linear_term = format(i + 1, max_d)\n",
    "        exec(\"Q.update({('q%s','q%s'):%s})\"%(linear_term, linear_term, format(QM[i][i])))\n",
    "\n",
    "    # quadratic terms\n",
    "    for i in range(qubits-1):\n",
    "        for j in range(i+1,qubits):\n",
    "            if QM[i][j] != 0:\n",
    "                qdrt1 = format(i + 1, max_d)\n",
    "                qdrt2 = format(j + 1, max_d)\n",
    "                exec(\"Q.update({('q%s','q%s'):%s})\"%(qdrt1,qdrt2,format(QM[i][j])))\n",
    "    return Q\n",
    "\n",
    "from dwave.system import LeapHybridSampler\n",
    "sampler = LeapHybridSampler()\n",
    "\n",
    "qubits = num_qb*nx*nx\n",
    "Q = Q_mat(qubits, QM)\n",
    "\n",
    "answer = sampler.sample_qubo(Q)\n",
    "print(answer)"
   ]
  },
  {
   "cell_type": "code",
   "execution_count": 4,
   "id": "4ef7d14e",
   "metadata": {},
   "outputs": [
    {
     "data": {
      "image/png": "[encoded data removed]",
      "text/plain": [
       "<Figure size 432x288 with 1 Axes>"
      ]
     },
     "metadata": {
      "needs_background": "light"
     },
     "output_type": "display_data"
    },
    {
     "name": "stdout",
     "output_type": "stream",
     "text": [
      "[0.0, 1.0]\n"
     ]
    },
    {
     "data": {
      "image/png": "[encoded data removed]",
      "text/plain": [
       "<Figure size 432x288 with 1 Axes>"
      ]
     },
     "metadata": {
      "needs_background": "light"
     },
     "output_type": "display_data"
    },
    {
     "data": {
      "image/png": "[encoded data removed]",
      "text/plain": [
       "<Figure size 432x288 with 1 Axes>"
      ]
     },
     "metadata": {
      "needs_background": "light"
     },
     "output_type": "display_data"
    }
   ],
   "source": [
    "data = list(answer.first[0].values())\n",
    "CT_phantom = np.zeros((nx,nx))\n",
    "for j in range(0,nx):\n",
    "    for i in range(0,nx):\n",
    "        for k in range(0,num_qb):\n",
    "            CT_phantom[i][j] = CT_phantom[i][j] + data[i*num_qb + j*num_qb*nx + k]*pow(2,k)\n",
    "        \n",
    "plt.figure()           \n",
    "plt.title('CT Image')\n",
    "plt.imshow(CT_phantom, vmin=0, vmax=pow(2, num_qb)-1)\n",
    "plt.show()\n",
    "sort_ph = sorted(np.unique(CT_phantom))\n",
    "print(sort_ph)\n",
    "\n",
    "# Original Image\n",
    "IS_phantom = fn_phantom[pad:nx+pad,pad:nx+pad]\n",
    "plt.figure()           \n",
    "plt.title('Image sample')\n",
    "plt.imshow(IS_phantom, vmin=0, vmax=pow(2, num_qb)-1)\n",
    "plt.show()\n",
    "\n",
    "com_phantom = IS_phantom - CT_phantom\n",
    "plt.figure()           \n",
    "plt.title('compare CT Image')\n",
    "plt.imshow(com_phantom, vmin=-1, vmax=1)\n",
    "plt.show()"
   ]
  },
  {
   "cell_type": "code",
   "execution_count": null,
   "id": "1e6bd73a",
   "metadata": {},
   "outputs": [],
   "source": []
  }
 ],
 "metadata": {
  "kernelspec": {
   "display_name": "Python 3 (ipykernel)",
   "language": "python",
   "name": "python3"
  },
  "language_info": {
   "codemirror_mode": {
    "name": "ipython",
    "version": 3
   },
   "file_extension": ".py",
   "mimetype": "text/x-python",
   "name": "python",
   "nbconvert_exporter": "python",
   "pygments_lexer": "ipython3",
   "version": "3.8.8"
  }
 },
 "nbformat": 4,
 "nbformat_minor": 5
}
