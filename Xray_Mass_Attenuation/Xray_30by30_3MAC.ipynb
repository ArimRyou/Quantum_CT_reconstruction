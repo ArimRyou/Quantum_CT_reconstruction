{
 "cells": [
  {
   "cell_type": "code",
   "execution_count": 1,
   "id": "841999cb",
   "metadata": {},
   "outputs": [],
   "source": [
    "import numpy as np\n",
    "import matplotlib.pyplot as plt\n",
    "\n",
    "from skimage.data import shepp_logan_phantom\n",
    "from skimage.transform import rescale, radon, iradon\n",
    "import cv2"
   ]
  },
  {
   "cell_type": "code",
   "execution_count": 2,
   "id": "e5e55ae0",
   "metadata": {},
   "outputs": [],
   "source": [
    "def add_QUBO(position, values, sinogram_values):\n",
    "    linear = np.square(values) # ok\n",
    "    tmp1 = values*np.transpose(values) # ok\n",
    "    tmp2 = np.ones(np.size(position)) - np.eye(np.size(position)) # ok\n",
    "    tmp3 = linear - 2*sinogram_values*values\n",
    "    return np.triu(2*np.multiply(tmp1,tmp2)+np.diag(tmp3.flatten()))"
   ]
  },
  {
   "cell_type": "code",
   "execution_count": 3,
   "id": "9abb2732",
   "metadata": {},
   "outputs": [
    {
     "data": {
      "image/png": "[encoded data removed]",
      "text/plain": [
       "<Figure size 432x288 with 1 Axes>"
      ]
     },
     "metadata": {
      "needs_background": "light"
     },
     "output_type": "display_data"
    },
    {
     "name": "stdout",
     "output_type": "stream",
     "text": [
      "[0.0, 1.0, 2.0, 3.0]\n"
     ]
    }
   ],
   "source": [
    "num_qb = 3\n",
    "nx = 30\n",
    "pad = 20\n",
    "phantom = shepp_logan_phantom() # 400 x 400\n",
    "phantom = rescale(phantom, nx/400) # 100 x 100\n",
    "sol_phantom = phantom\n",
    "phantom = np.pad(phantom, ((pad,pad),(pad,pad)))\n",
    "\n",
    "dtheta = 180/nx\n",
    "max_angle = 180\n",
    "tnp = max_angle/dtheta\n",
    "theta = np.arange(0, 180, dtheta)\n",
    "\n",
    "rs_phantom = phantom/np.max(phantom)*(3)\n",
    "fn_phantom = np.round(rs_phantom, 0)  # 9 means round in Matlab\n",
    "sino = radon(fn_phantom, theta)\n",
    "\n",
    "plt.figure()           \n",
    "plt.title('Phantom Image')\n",
    "plt.imshow(fn_phantom, vmin=0, vmax=pow(2, num_qb)-2)\n",
    "plt.show()\n",
    "sort_ph = sorted(np.unique(fn_phantom))\n",
    "print(sort_ph)"
   ]
  },
  {
   "cell_type": "code",
   "execution_count": 4,
   "id": "0403a437",
   "metadata": {},
   "outputs": [
    {
     "name": "stdout",
     "output_type": "stream",
     "text": [
      "0\n",
      "1\n",
      "2\n",
      "3\n",
      "4\n",
      "5\n",
      "6\n",
      "7\n",
      "8\n",
      "9\n",
      "10\n",
      "11\n",
      "12\n",
      "13\n",
      "14\n",
      "15\n",
      "16\n",
      "17\n",
      "18\n",
      "19\n",
      "20\n",
      "21\n",
      "22\n",
      "23\n",
      "24\n",
      "25\n",
      "26\n",
      "27\n",
      "28\n",
      "29\n"
     ]
    }
   ],
   "source": [
    "QM = np.zeros((num_qb*nx**2,num_qb*nx**2))\n",
    "Fin_Min = 0\n",
    "num_row = num_qb*nx\n",
    "for sino_ny in range(0,int(tnp)):\n",
    "    print(sino_ny)   # 여기 ny 찍기\n",
    "    temp_theta = [theta[sino_ny]]\n",
    "    for sino_nx in range(0,nx+2*pad):\n",
    "#        print(sino_nx)   # 여기 nx 찍기\n",
    "#        if sino[sino_nx][sino_ny] == 0:\n",
    "#            continue\n",
    "        Arr_pos = np.array([])\n",
    "        Arr_val = np.array([])\n",
    "        for j in range(0,nx):\n",
    "            for i in range(0,nx):\n",
    "                G = np.zeros((nx+2*pad,nx+2*pad))\n",
    "                G[i+pad][j+pad] = 1\n",
    "                R = radon(G, temp_theta) \n",
    "                for qb in range(0, num_qb):\n",
    "                    Arr_pos = np.append(Arr_pos, np.array(i+num_row*(j)))\n",
    "                    Arr_val = np.append(Arr_val, (qb+1)*np.array(R[sino_nx][0])) \n",
    "        sino_val = sino[sino_nx][sino_ny]\n",
    "        QM = QM + add_QUBO(Arr_pos.reshape(-1,1), Arr_val.reshape(-1,1), sino_val)\n",
    "        Fin_Min -= sino_val**2"
   ]
  },
  {
   "cell_type": "code",
   "execution_count": 5,
   "id": "d7f52bbc",
   "metadata": {},
   "outputs": [
    {
     "name": "stdout",
     "output_type": "stream",
     "text": [
      "Minimum value as our goal =  -305466.1555447945\n",
      "By using the matrix Q, the obtained value x^TQx =  -305466.15554479463\n"
     ]
    }
   ],
   "source": [
    "T = np.zeros((num_qb*nx**2,1))\n",
    "for j in range(0,nx):\n",
    "    for i in range(0,nx):\n",
    "        Val_fn_pt = fn_phantom[i+pad][j+pad]\n",
    "        for k in range(0, num_qb):\n",
    "            temp_val = divmod(Val_fn_pt,2)\n",
    "            Val_fn_pt = temp_val[0]\n",
    "            T[i*num_qb + j*num_qb*nx + k] = temp_val[1]\n",
    "            \n",
    "tmp1 = np.matmul(np.transpose(T),QM)\n",
    "tmp2 = np.matmul(tmp1,T)\n",
    "print('Minimum value as our goal = ', Fin_Min)\n",
    "print('By using the matrix Q, the obtained value x^TQx = ', tmp2.item())"
   ]
  },
  {
   "cell_type": "code",
   "execution_count": 6,
   "id": "dd5ce535",
   "metadata": {},
   "outputs": [
    {
     "name": "stdout",
     "output_type": "stream",
     "text": [
      "  q0001 q0002 q0003 q0004 q0005 q0006 q0007 ... q2700         energy num_oc.\n",
      "0     0     0     0     0     0     0     0 ...     0 -305049.354659       1\n",
      "['BINARY', 1 rows, 1 samples, 2700 variables]\n"
     ]
    }
   ],
   "source": [
    "def Q_mat(qubits,QM):\n",
    "    max_d = format(len(str(qubits)), '02')\n",
    "    \n",
    "    # linear terms\n",
    "    Q = {}\n",
    "    for i in range(qubits): \n",
    "        linear_term = format(i + 1, max_d)\n",
    "        exec(\"Q.update({('q%s','q%s'):%s})\"%(linear_term, linear_term, format(QM[i][i])))\n",
    "\n",
    "    # quadratic terms\n",
    "    for i in range(qubits-1):\n",
    "        for j in range(i+1,qubits):\n",
    "            if QM[i][j] != 0:\n",
    "                qdrt1 = format(i + 1, max_d)\n",
    "                qdrt2 = format(j + 1, max_d)\n",
    "                exec(\"Q.update({('q%s','q%s'):%s})\"%(qdrt1,qdrt2,format(QM[i][j])))\n",
    "    return Q\n",
    "\n",
    "from dwave.system import LeapHybridSampler\n",
    "sampler = LeapHybridSampler()\n",
    "\n",
    "qubits = num_qb*nx*nx\n",
    "Q = Q_mat(qubits, QM)\n",
    "\n",
    "answer = sampler.sample_qubo(Q)\n",
    "print(answer)"
   ]
  },
  {
   "cell_type": "code",
   "execution_count": 7,
   "id": "a64e76eb",
   "metadata": {},
   "outputs": [
    {
     "data": {
      "image/png": "[encoded data removed]",
      "text/plain": [
       "<Figure size 432x288 with 2 Axes>"
      ]
     },
     "metadata": {
      "needs_background": "light"
     },
     "output_type": "display_data"
    },
    {
     "name": "stdout",
     "output_type": "stream",
     "text": [
      "[0.0, 1.0, 2.0, 3.0, 4.0]\n"
     ]
    }
   ],
   "source": [
    "data = list(answer.first[0].values())\n",
    "CT_phantom = np.zeros((nx,nx))\n",
    "for j in range(0,nx):\n",
    "    for i in range(0,nx):\n",
    "        for k in range(0,num_qb):\n",
    "            CT_phantom[i][j] = CT_phantom[i][j] + data[i*num_qb + j*num_qb*nx + k]*(k+1)\n",
    "        \n",
    "plt.figure()           \n",
    "plt.title('CT Image')\n",
    "plt.imshow(CT_phantom, vmin=0, vmax=5)\n",
    "plt.colorbar()\n",
    "plt.show()\n",
    "sort_ph = sorted(np.unique(CT_phantom))\n",
    "print(sort_ph)"
   ]
  },
  {
   "cell_type": "code",
   "execution_count": 8,
   "id": "cd7accbb",
   "metadata": {},
   "outputs": [
    {
     "data": {
      "image/png": "[encoded data removed]",
      "text/plain": [
       "<Figure size 432x288 with 1 Axes>"
      ]
     },
     "metadata": {
      "needs_background": "light"
     },
     "output_type": "display_data"
    }
   ],
   "source": [
    "IS_phantom = fn_phantom[pad:nx+pad,pad:nx+pad]\n",
    "plt.figure()           \n",
    "plt.title('Image sample')\n",
    "plt.imshow(IS_phantom, vmin=0, vmax=5)\n",
    "plt.show()"
   ]
  },
  {
   "cell_type": "code",
   "execution_count": 9,
   "id": "c945973f",
   "metadata": {},
   "outputs": [
    {
     "name": "stdout",
     "output_type": "stream",
     "text": [
      "0\n",
      "1\n",
      "2\n",
      "3\n",
      "4\n",
      "5\n",
      "6\n",
      "7\n",
      "8\n",
      "9\n",
      "10\n",
      "11\n",
      "12\n",
      "13\n",
      "14\n",
      "15\n",
      "16\n",
      "17\n",
      "18\n",
      "19\n",
      "20\n",
      "21\n",
      "22\n",
      "23\n",
      "24\n",
      "25\n",
      "26\n",
      "27\n",
      "28\n",
      "29\n"
     ]
    }
   ],
   "source": [
    "# CT[i,j] = q1 + q2 +q3\n",
    "QM = np.zeros((num_qb*nx**2,num_qb*nx**2))\n",
    "Fin_Min = 0\n",
    "num_row = num_qb*nx\n",
    "for sino_ny in range(0,int(tnp)):\n",
    "    print(sino_ny)   # 여기 ny 찍기\n",
    "    temp_theta = [theta[sino_ny]]\n",
    "    for sino_nx in range(0,nx+2*pad):\n",
    "#        print(sino_nx)   # 여기 nx 찍기\n",
    "#        if sino[sino_nx][sino_ny] == 0:\n",
    "#            continue\n",
    "        Arr_pos = np.array([])\n",
    "        Arr_val = np.array([])\n",
    "        for j in range(0,nx):\n",
    "            for i in range(0,nx):\n",
    "                G = np.zeros((nx+2*pad,nx+2*pad))\n",
    "                G[i+pad][j+pad] = 1\n",
    "                R = radon(G, temp_theta) \n",
    "                for qb in range(0, num_qb):\n",
    "                    Arr_pos = np.append(Arr_pos, np.array(i+num_row*(j)))\n",
    "                    Arr_val = np.append(Arr_val, np.array(R[sino_nx][0])) \n",
    "        sino_val = sino[sino_nx][sino_ny]\n",
    "        QM = QM + add_QUBO(Arr_pos.reshape(-1,1), Arr_val.reshape(-1,1), sino_val)\n",
    "        Fin_Min -= sino_val**2"
   ]
  },
  {
   "cell_type": "code",
   "execution_count": 10,
   "id": "3cd8b0fe",
   "metadata": {},
   "outputs": [
    {
     "name": "stdout",
     "output_type": "stream",
     "text": [
      "Minimum value as our goal =  -305466.1555447945\n",
      "By using the matrix Q, the obtained value x^TQx =  -297386.00187547645\n"
     ]
    }
   ],
   "source": [
    "T = np.zeros((num_qb*nx**2,1))\n",
    "for j in range(0,nx):\n",
    "    for i in range(0,nx):\n",
    "        Val_fn_pt = fn_phantom[i+pad][j+pad]\n",
    "        for k in range(0, num_qb):\n",
    "            temp_val = divmod(Val_fn_pt,2)\n",
    "            Val_fn_pt = temp_val[0]\n",
    "            T[i*num_qb + j*num_qb*nx + k] = temp_val[1]\n",
    "            \n",
    "tmp1 = np.matmul(np.transpose(T),QM)\n",
    "tmp2 = np.matmul(tmp1,T)\n",
    "print('Minimum value as our goal = ', Fin_Min)\n",
    "print('By using the matrix Q, the obtained value x^TQx = ', tmp2.item())"
   ]
  },
  {
   "cell_type": "code",
   "execution_count": 11,
   "id": "179a6036",
   "metadata": {},
   "outputs": [
    {
     "name": "stdout",
     "output_type": "stream",
     "text": [
      "  q0001 q0002 q0003 q0004 q0005 q0006 q0007 ... q2700         energy num_oc.\n",
      "0     0     0     0     0     0     0     0 ...     0 -305466.155545       1\n",
      "['BINARY', 1 rows, 1 samples, 2700 variables]\n"
     ]
    }
   ],
   "source": [
    "def Q_mat(qubits,QM):\n",
    "    max_d = format(len(str(qubits)), '02')\n",
    "    \n",
    "    # linear terms\n",
    "    Q = {}\n",
    "    for i in range(qubits): \n",
    "        linear_term = format(i + 1, max_d)\n",
    "        exec(\"Q.update({('q%s','q%s'):%s})\"%(linear_term, linear_term, format(QM[i][i])))\n",
    "\n",
    "    # quadratic terms\n",
    "    for i in range(qubits-1):\n",
    "        for j in range(i+1,qubits):\n",
    "            if QM[i][j] != 0:\n",
    "                qdrt1 = format(i + 1, max_d)\n",
    "                qdrt2 = format(j + 1, max_d)\n",
    "                exec(\"Q.update({('q%s','q%s'):%s})\"%(qdrt1,qdrt2,format(QM[i][j])))\n",
    "    return Q\n",
    "\n",
    "from dwave.system import LeapHybridSampler\n",
    "sampler = LeapHybridSampler()\n",
    "\n",
    "qubits = num_qb*nx*nx\n",
    "Q = Q_mat(qubits, QM)\n",
    "\n",
    "answer = sampler.sample_qubo(Q)\n",
    "print(answer)"
   ]
  },
  {
   "cell_type": "code",
   "execution_count": 12,
   "id": "3c821915",
   "metadata": {},
   "outputs": [
    {
     "data": {
      "image/png": "[encoded data removed]",
      "text/plain": [
       "<Figure size 432x288 with 1 Axes>"
      ]
     },
     "metadata": {
      "needs_background": "light"
     },
     "output_type": "display_data"
    },
    {
     "name": "stdout",
     "output_type": "stream",
     "text": [
      "[0.0, 1.0, 2.0, 3.0]\n"
     ]
    }
   ],
   "source": [
    "data = list(answer.first[0].values())\n",
    "CT_phantom = np.zeros((nx,nx))\n",
    "for j in range(0,nx):\n",
    "    for i in range(0,nx):\n",
    "        for k in range(0,num_qb):\n",
    "            CT_phantom[i][j] = CT_phantom[i][j] + data[i*num_qb + j*num_qb*nx + k]\n",
    "        \n",
    "plt.figure()           \n",
    "plt.title('CT Image')\n",
    "plt.imshow(CT_phantom, vmin=0, vmax=5)\n",
    "plt.show()\n",
    "sort_ph = sorted(np.unique(CT_phantom))\n",
    "print(sort_ph)"
   ]
  },
  {
   "cell_type": "code",
   "execution_count": 13,
   "id": "10461992",
   "metadata": {},
   "outputs": [
    {
     "data": {
      "image/png": "[encoded data removed]",
      "text/plain": [
       "<Figure size 432x288 with 1 Axes>"
      ]
     },
     "metadata": {
      "needs_background": "light"
     },
     "output_type": "display_data"
    },
    {
     "name": "stdout",
     "output_type": "stream",
     "text": [
      "[0.0]\n"
     ]
    }
   ],
   "source": [
    "cpr2imgs = IS_phantom - CT_phantom\n",
    "plt.figure()           \n",
    "plt.title('Compare 2 Images')\n",
    "plt.imshow(cpr2imgs, vmin=-1, vmax=1)\n",
    "plt.show()\n",
    "sort_ph = sorted(np.unique(cpr2imgs))\n",
    "print(sort_ph)"
   ]
  },
  {
   "cell_type": "code",
   "execution_count": 14,
   "id": "5f842283",
   "metadata": {},
   "outputs": [
    {
     "name": "stdout",
     "output_type": "stream",
     "text": [
      "[0, 0, 0, 0, 0, 0, 0, 0, 0, 0, 0, 0, 0, 0, 0, 0, 0, 0, 0, 0, 0, 0, 0, 0, 0, 0, 0, 0, 0, 0, 0, 0, 0, 0, 0, 0, 0, 0, 0, 0, 0, 0, 0, 0, 0, 0, 0, 0, 0, 0, 0, 0, 0, 0, 0, 0, 0, 0, 0, 0, 0, 0, 0, 0, 0, 0, 0, 0, 0, 0, 0, 0, 0, 0, 0, 0, 0, 0, 0, 0, 0, 0, 0, 0, 0, 0, 0, 0, 0, 0, 0, 0, 0, 0, 0, 0, 0, 0, 0, 0, 0, 0, 0, 0, 0, 0, 0, 0, 0, 0, 0, 0, 0, 0, 0, 0, 0, 0, 0, 0, 0, 0, 0, 0, 0, 0, 0, 0, 0, 0, 0, 0, 0, 0, 0, 0, 0, 0, 0, 0, 0, 0, 0, 0, 0, 0, 0, 0, 0, 0, 0, 0, 0, 0, 0, 0, 0, 0, 0, 0, 0, 0, 0, 0, 0, 0, 0, 0, 0, 0, 0, 0, 0, 0, 0, 0, 0, 0, 0, 0, 0, 0, 0, 0, 0, 0, 0, 0, 0, 0, 0, 0, 0, 0, 0, 0, 0, 0, 0, 0, 0, 0, 0, 0, 0, 0, 0, 0, 0, 0, 0, 0, 0, 0, 0, 0, 0, 0, 0, 0, 0, 0, 0, 0, 0, 0, 0, 0, 0, 0, 0, 0, 0, 0, 0, 0, 0, 0, 0, 0, 0, 0, 0, 0, 0, 0, 0, 0, 0, 0, 0, 0, 0, 0, 0, 0, 0, 0, 0, 0, 0, 0, 0, 0, 0, 0, 0, 0, 0, 0, 0, 0, 0, 0, 0, 0, 0, 0, 0, 0, 0, 0, 0, 0, 0, 0, 0, 0, 0, 0, 0, 0, 0, 0, 0, 0, 0, 0, 0, 0, 0, 0, 0, 0, 0, 0, 0, 0, 0, 0, 0, 0, 0, 0, 0, 0, 0, 0, 0, 0, 0, 0, 0, 0, 0, 0, 0, 0, 0, 0, 0, 0, 0, 0, 0, 0, 0, 0, 0, 0, 0, 0, 0, 0, 0, 0, 0, 0, 0, 0, 0, 0, 0, 0, 0, 0, 0, 0, 0, 0, 0, 0, 0, 0, 0, 0, 0, 0, 0, 0, 0, 0, 0, 0, 0, 0, 0, 0, 0, 0, 0, 0, 0, 0, 0, 0, 0, 0, 0, 0, 0, 0, 0, 0, 1, 0, 0, 0, 1, 0, 1, 0, 0, 1, 0, 0, 1, 0, 1, 0, 0, 0, 0, 1, 0, 0, 0, 0, 0, 0, 0, 0, 0, 0, 0, 0, 0, 0, 0, 0, 0, 0, 0, 0, 0, 0, 0, 0, 0, 0, 0, 0, 0, 0, 0, 0, 0, 0, 0, 0, 0, 0, 0, 0, 0, 0, 0, 0, 0, 0, 0, 0, 0, 0, 0, 0, 0, 0, 0, 0, 0, 0, 0, 0, 0, 0, 1, 1, 0, 1, 1, 1, 0, 0, 1, 1, 1, 1, 0, 0, 1, 1, 0, 0, 1, 0, 0, 1, 0, 0, 1, 0, 1, 1, 1, 1, 0, 1, 1, 0, 0, 1, 0, 0, 1, 0, 0, 0, 0, 0, 0, 0, 0, 0, 0, 0, 0, 0, 0, 0, 0, 0, 0, 0, 0, 0, 0, 0, 0, 0, 0, 0, 0, 0, 0, 0, 0, 0, 0, 0, 0, 0, 0, 0, 0, 0, 0, 0, 0, 1, 0, 1, 0, 1, 0, 1, 1, 0, 1, 1, 0, 1, 0, 0, 0, 1, 1, 0, 0, 0, 1, 0, 0, 0, 1, 1, 0, 0, 1, 0, 0, 0, 1, 0, 1, 0, 0, 0, 1, 0, 0, 1, 0, 1, 0, 1, 1, 0, 1, 0, 0, 1, 0, 0, 0, 0, 0, 0, 0, 0, 0, 0, 0, 0, 0, 0, 0, 0, 0, 0, 0, 0, 0, 0, 0, 0, 0, 0, 0, 0, 0, 0, 0, 0, 0, 1, 0, 1, 1, 0, 1, 0, 1, 0, 1, 0, 0, 1, 0, 0, 0, 1, 0, 1, 0, 0, 0, 0, 1, 1, 0, 0, 0, 0, 1, 1, 0, 0, 0, 1, 0, 1, 0, 0, 0, 1, 0, 0, 1, 0, 1, 0, 0, 1, 0, 0, 0, 1, 0, 0, 1, 1, 1, 0, 0, 0, 0, 0, 0, 0, 0, 0, 0, 0, 0, 0, 0, 0, 0, 0, 0, 0, 0, 0, 0, 0, 0, 0, 0, 0, 0, 0, 1, 0, 1, 0, 1, 1, 1, 0, 0, 1, 0, 0, 1, 0, 0, 1, 0, 0, 1, 0, 0, 1, 0, 0, 1, 0, 0, 1, 0, 0, 0, 1, 0, 0, 1, 0, 0, 0, 1, 0, 1, 0, 0, 1, 0, 0, 1, 0, 0, 0, 1, 1, 0, 0, 0, 0, 1, 1, 0, 0, 0, 0, 1, 1, 1, 0, 0, 0, 0, 0, 0, 0, 0, 0, 0, 0, 0, 0, 0, 0, 0, 0, 0, 0, 0, 0, 0, 1, 0, 1, 1, 0, 1, 0, 0, 1, 0, 1, 0, 0, 0, 1, 0, 0, 1, 0, 0, 0, 0, 0, 0, 0, 0, 0, 0, 0, 0, 0, 0, 0, 0, 0, 0, 0, 0, 0, 1, 0, 0, 0, 1, 0, 0, 0, 1, 0, 1, 0, 0, 1, 0, 1, 0, 0, 0, 0, 1, 1, 0, 0, 0, 0, 1, 0, 1, 0, 1, 1, 0, 0, 0, 0, 0, 0, 0, 0, 0, 0, 0, 0, 0, 0, 0, 0, 1, 1, 0, 1, 1, 1, 0, 1, 0, 0, 1, 0, 0, 0, 1, 0, 0, 1, 1, 0, 0, 0, 0, 0, 0, 0, 0, 0, 0, 0, 0, 0, 0, 0, 0, 0, 0, 0, 0, 0, 0, 0, 0, 0, 0, 0, 0, 0, 0, 1, 0, 0, 1, 0, 1, 0, 0, 0, 0, 1, 0, 1, 0, 0, 1, 0, 0, 0, 1, 1, 0, 0, 1, 0, 0, 0, 1, 0, 0, 0, 0, 0, 0, 0, 0, 0, 0, 0, 0, 1, 1, 1, 1, 0, 1, 1, 1, 0, 0, 0, 0, 1, 0, 1, 0, 0, 1, 0, 0, 1, 0, 1, 0, 0, 0, 0, 0, 0, 0, 0, 0, 0, 0, 0, 0, 0, 0, 0, 0, 0, 0, 0, 0, 0, 0, 0, 0, 0, 0, 0, 0, 0, 0, 0, 0, 0, 1, 0, 1, 0, 1, 0, 0, 0, 1, 0, 0, 0, 1, 1, 0, 0, 0, 1, 0, 1, 0, 1, 0, 1, 0, 0, 0, 0, 0, 0, 0, 0, 1, 1, 1, 1, 1, 1, 0, 0, 0, 0, 1, 0, 1, 0, 0, 1, 0, 1, 0, 0, 0, 1, 0, 1, 0, 0, 0, 1, 0, 0, 1, 0, 0, 0, 0, 0, 0, 0, 0, 0, 0, 0, 0, 0, 0, 0, 0, 0, 0, 0, 0, 0, 0, 0, 0, 0, 0, 0, 0, 0, 0, 1, 0, 1, 0, 0, 0, 1, 0, 0, 1, 0, 0, 1, 1, 0, 0, 0, 0, 1, 1, 0, 0, 0, 0, 0, 0, 0, 0, 1, 0, 1, 0, 1, 1, 1, 0, 0, 0, 1, 0, 1, 0, 0, 0, 1, 0, 1, 0, 0, 0, 0, 1, 0, 1, 0, 0, 0, 1, 0, 0, 1, 1, 0, 0, 0, 0, 0, 0, 0, 0, 0, 0, 0, 0, 0, 0, 0, 0, 0, 0, 0, 0, 0, 0, 0, 0, 0, 0, 1, 0, 0, 0, 1, 0, 1, 0, 0, 0, 0, 1, 1, 0, 0, 0, 1, 0, 0, 1, 0, 0, 1, 1, 0, 0, 0, 0, 0, 0, 1, 1, 1, 0, 1, 1, 0, 1, 0, 1, 0, 0, 1, 0, 0, 0, 0, 1, 0, 0, 1, 0, 1, 0, 1, 0, 0, 0, 0, 1, 1, 0, 0, 0, 0, 1, 1, 0, 0, 1, 0, 0, 1, 0, 0, 1, 0, 0, 0, 0, 0, 0, 0, 0, 0, 0, 0, 1, 0, 0, 0, 0, 1, 0, 1, 0, 0, 0, 1, 0, 0, 1, 1, 0, 0, 0, 0, 1, 0, 0, 1, 0, 1, 1, 0, 0, 0, 0, 0, 0, 1, 1, 1, 0, 1, 1, 1, 0, 0, 0, 0, 1, 0, 0, 1, 1, 0, 0, 0, 1, 0, 0, 0, 1, 0, 0, 1, 0, 0, 1, 0, 0, 1, 1, 0, 0, 1, 0, 0, 1, 0, 0, 0, 1, 0, 0, 1, 0, 0, 0, 1, 0, 1, 0, 1, 0, 0, 0, 1, 0, 1, 0, 0, 0, 0, 1, 0, 0, 1, 0, 1, 0, 1, 0, 0, 0, 1, 0, 0, 0, 1, 1, 1, 0, 0, 0, 0, 0, 0, 0, 1, 0, 1, 1, 1, 0, 0, 1, 0, 0, 0, 1, 0, 1, 0, 1, 0, 0, 1, 0, 0, 0, 0, 1, 0, 0, 1, 0, 1, 0, 0, 1, 0, 0, 1, 0, 0, 1, 0, 0, 0, 1, 0, 0, 0, 0, 0, 0, 0, 0, 0, 0, 0, 0, 0, 1, 0, 1, 0, 0, 1, 0, 0, 1, 0, 0, 1, 0, 0, 0, 1, 0, 1, 0, 0, 0, 0, 1, 0, 1, 0, 1, 0, 1, 0, 0, 0, 0, 0, 0, 1, 0, 1, 1, 1, 1, 1, 0, 0, 1, 0, 0, 0, 1, 0, 0, 1, 0, 0, 1, 0, 1, 0, 0, 0, 0, 1, 1, 0, 0, 0, 0, 1, 0, 0, 1, 0, 0, 0, 0, 0, 0, 0, 0, 0, 0, 0, 0, 0, 0, 0, 0, 0, 0, 0, 1, 0, 1, 0, 0, 0, 0, 1, 1, 0, 0, 1, 0, 0, 0, 0, 1, 1, 0, 0, 0, 1, 0, 1, 0, 0, 0, 1, 0, 0, 0, 0, 0, 0, 0, 0, 1, 0, 1, 1, 1, 1, 1, 0, 0, 0, 1, 1, 0, 0, 0, 0, 1, 0, 0, 1, 1, 0, 0, 1, 0, 0, 1, 0, 0, 0, 0, 0, 0, 0, 0, 0, 0, 0, 0, 0, 0, 0, 0, 0, 0, 0, 0, 0, 0, 0, 0, 1, 0, 0, 1, 0, 0, 1, 0, 0, 0, 1, 1, 0, 0, 1, 0, 0, 0, 1, 0, 0, 0, 1, 0, 0, 1, 0, 1, 1, 0, 0, 1, 0, 0, 0, 0, 0, 0, 0, 0, 0, 1, 1, 0, 1, 1, 1, 0, 1, 0, 0, 0, 1, 0, 0, 1, 0, 0, 1, 0, 0, 1, 0, 0, 1, 0, 0, 1, 0, 0, 0, 0, 0, 0, 0, 0, 0, 0, 0, 0, 0, 0, 0, 0, 0, 0, 0, 0, 1, 0, 0, 1, 1, 0, 0, 0, 0, 1, 1, 0, 0, 1, 0, 0, 1, 0, 0, 0, 1, 0, 0, 0, 1, 0, 1, 0, 0, 1, 0, 0, 0, 0, 0, 0, 0, 0, 0, 0, 0, 0, 0, 0, 0, 0, 1, 0, 1, 1, 0, 1, 0, 0, 1, 0, 0, 1, 0, 1, 0, 0, 1, 0, 0, 0, 1, 0, 1, 0, 1, 0, 0, 0, 1, 0, 0, 0, 1, 0, 0, 1, 1, 0, 0, 0, 0, 1, 1, 0, 0, 0, 1, 0, 0, 1, 0, 1, 0, 0, 1, 0, 0, 0, 1, 0, 0, 0, 1, 0, 1, 0, 0, 1, 0, 1, 1, 0, 0, 0, 0, 0, 0, 0, 0, 0, 0, 0, 0, 0, 0, 0, 0, 0, 0, 0, 0, 0, 0, 0, 1, 1, 0, 1, 1, 1, 0, 0, 0, 1, 0, 1, 0, 0, 0, 1, 0, 1, 0, 0, 0, 1, 0, 0, 1, 0, 1, 0, 0, 1, 0, 0, 0, 1, 0, 0, 1, 0, 0, 1, 0, 0, 0, 1, 0, 1, 0, 0, 0, 1, 1, 0, 0, 1, 0, 0, 1, 0, 0, 0, 0, 1, 1, 1, 0, 0, 0, 0, 0, 0, 0, 0, 0, 0, 0, 0, 0, 0, 0, 0, 0, 0, 0, 0, 0, 0, 0, 0, 0, 0, 0, 0, 1, 0, 1, 1, 1, 0, 1, 0, 0, 0, 1, 0, 0, 0, 1, 1, 0, 0, 1, 0, 0, 0, 0, 1, 1, 0, 0, 1, 0, 0, 1, 0, 0, 1, 0, 0, 0, 0, 1, 0, 1, 0, 0, 1, 0, 0, 1, 0, 0, 1, 0, 0, 1, 0, 0, 1, 1, 1, 0, 0, 0, 0, 0, 0, 0, 0, 0, 0, 0, 0, 0, 0, 0, 0, 0, 0, 0, 0, 0, 0, 0, 0, 0, 0, 0, 0, 0, 0, 0, 0, 0, 0, 0, 0, 0, 1, 1, 0, 1, 1, 0, 1, 1, 1, 0, 0, 1, 0, 1, 0, 0, 0, 1, 0, 0, 1, 0, 1, 0, 0, 1, 0, 0, 0, 0, 1, 0, 1, 0, 0, 0, 1, 0, 0, 1, 0, 1, 0, 1, 0, 1, 1, 0, 1, 0, 1, 0, 0, 0, 0, 0, 0, 0, 0, 0, 0, 0, 0, 0, 0, 0, 0, 0, 0, 0, 0, 0, 0, 0, 0, 0, 0, 0, 0, 0, 0, 0, 0, 0, 0, 0, 0, 0, 0, 0, 0, 0, 0, 0, 1, 0, 0, 1, 0, 1, 0, 1, 1, 0, 1, 1, 1, 0, 1, 1, 1, 0, 0, 0, 1, 1, 0, 0, 0, 0, 1, 0, 1, 1, 1, 0, 1, 1, 0, 1, 0, 0, 1, 0, 1, 0, 0, 0, 0, 0, 0, 0, 0, 0, 0, 0, 0, 0, 0, 0, 0, 0, 0, 0, 0, 0, 0, 0, 0, 0, 0, 0, 0, 0, 0, 0, 0, 0, 0, 0, 0, 0, 0, 0, 0, 0, 0, 0, 0, 0, 0, 0, 0, 0, 0, 0, 0, 0, 0, 0, 0, 0, 0, 0, 1, 0, 0, 0, 1, 1, 0, 0, 1, 0, 0, 1, 0, 0, 0, 1, 0, 0, 1, 0, 0, 0, 0, 0, 0, 0, 0, 0, 0, 0, 0, 0, 0, 0, 0, 0, 0, 0, 0, 0, 0, 0, 0, 0, 0, 0, 0, 0, 0, 0, 0, 0, 0, 0, 0, 0, 0, 0, 0, 0, 0, 0, 0, 0, 0, 0, 0, 0, 0, 0, 0, 0, 0, 0, 0, 0, 0, 0, 0, 0, 0, 0, 0, 0, 0, 0, 0, 0, 0, 0, 0, 0, 0, 0, 0, 0, 0, 0, 0, 0, 0, 0, 0, 0, 0, 0, 0, 0, 0, 0, 0, 0, 0, 0, 0, 0, 0, 0, 0, 0, 0, 0, 0, 0, 0, 0, 0, 0, 0, 0, 0, 0, 0, 0, 0, 0, 0, 0, 0, 0, 0, 0, 0, 0, 0, 0, 0, 0, 0, 0, 0, 0, 0, 0, 0, 0, 0, 0, 0, 0, 0, 0, 0, 0, 0, 0, 0, 0, 0, 0, 0, 0, 0, 0, 0, 0, 0, 0, 0, 0, 0, 0, 0, 0, 0, 0, 0, 0, 0, 0, 0, 0, 0, 0, 0, 0, 0, 0, 0, 0, 0, 0, 0, 0, 0, 0, 0, 0, 0, 0, 0, 0, 0, 0, 0, 0, 0, 0, 0, 0, 0, 0, 0, 0, 0, 0, 0, 0, 0, 0, 0, 0, 0, 0, 0, 0, 0, 0, 0, 0, 0, 0, 0, 0, 0, 0, 0, 0, 0, 0, 0, 0, 0, 0, 0, 0, 0, 0, 0, 0, 0, 0, 0, 0, 0, 0, 0, 0, 0, 0, 0, 0, 0, 0, 0, 0, 0, 0, 0, 0, 0, 0, 0, 0, 0, 0, 0, 0, 0, 0, 0, 0, 0, 0, 0, 0, 0, 0, 0, 0, 0, 0, 0, 0, 0, 0, 0, 0, 0, 0, 0, 0, 0, 0, 0, 0, 0, 0, 0, 0, 0, 0, 0, 0, 0, 0, 0, 0, 0, 0, 0, 0, 0, 0, 0, 0, 0, 0, 0, 0, 0, 0, 0, 0, 0, 0, 0, 0, 0, 0, 0, 0, 0, 0, 0, 0, 0, 0, 0, 0, 0, 0, 0, 0, 0, 0, 0, 0, 0, 0, 0, 0, 0, 0, 0, 0, 0, 0, 0, 0, 0, 0, 0, 0, 0, 0, 0, 0, 0, 0, 0, 0, 0, 0, 0, 0, 0, 0, 0, 0, 0, 0, 0, 0, 0, 0, 0, 0, 0, 0, 0, 0, 0, 0, 0, 0]\n"
     ]
    }
   ],
   "source": [
    "print(data)"
   ]
  },
  {
   "cell_type": "code",
   "execution_count": null,
   "id": "ae15abb2",
   "metadata": {},
   "outputs": [],
   "source": []
  }
 ],
 "metadata": {
  "kernelspec": {
   "display_name": "Python 3 (ipykernel)",
   "language": "python",
   "name": "python3"
  },
  "language_info": {
   "codemirror_mode": {
    "name": "ipython",
    "version": 3
   },
   "file_extension": ".py",
   "mimetype": "text/x-python",
   "name": "python",
   "nbconvert_exporter": "python",
   "pygments_lexer": "ipython3",
   "version": "3.8.8"
  }
 },
 "nbformat": 4,
 "nbformat_minor": 5
}
