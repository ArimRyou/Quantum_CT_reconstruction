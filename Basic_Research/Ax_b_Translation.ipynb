{
 "cells": [
  {
   "cell_type": "code",
   "execution_count": 2,
   "id": "d2abcafc",
   "metadata": {},
   "outputs": [
    {
     "name": "stdout",
     "output_type": "stream",
     "text": [
      "ax = b\n",
      "a is 1\n",
      "b is 5\n"
     ]
    }
   ],
   "source": [
    "# solve ax = b\n",
    "import numpy as np\n",
    "import random, math\n",
    "import copy\n",
    "\n",
    "a = random.randint(1, 3)\n",
    "x = random.randint(5, 8)  # HW: random.randint(0, 7)\n",
    "b = a*x\n",
    "print('ax = b')\n",
    "print('a is',a)\n",
    "print('b is',b)\n",
    "\n",
    "# Assumtion: we don't know 'x'\n",
    "# Goal: find x for the given equation 'ax = b'"
   ]
  },
  {
   "cell_type": "code",
   "execution_count": 85,
   "id": "ea9f4b8a",
   "metadata": {},
   "outputs": [
    {
     "name": "stdout",
     "output_type": "stream",
     "text": [
      "q1 is -588\n",
      "q2 is -1168\n",
      "q1q2 is 16\n",
      "The lowest energy is -21904\n"
     ]
    }
   ],
   "source": [
    "q1 = a*a + 10*a*a - 2*a*b\n",
    "q2 = 4*a*a + 20*a*a - 4*a*b\n",
    "q1q2 = 4*a*a\n",
    "print('q1 is',q1)\n",
    "print('q2 is',q2)\n",
    "print('q1q2 is',q1q2)\n",
    "\n",
    "LE = -(25*a*a+b*b-10*a*b)\n",
    "print('The lowest energy is',LE)"
   ]
  },
  {
   "cell_type": "code",
   "execution_count": 87,
   "id": "1b4ffd12",
   "metadata": {},
   "outputs": [
    {
     "name": "stdout",
     "output_type": "stream",
     "text": [
      "  q1 q2  energy num_oc. chain_.\n",
      "0  1  1 -1740.0     100     0.0\n",
      "['BINARY', 1 rows, 100 samples, 2 variables]\n"
     ]
    }
   ],
   "source": [
    "from dwave.system import DWaveSampler, EmbeddingComposite\n",
    "sampler_auto = EmbeddingComposite(DWaveSampler(solver={'qpu': True}))\n",
    "\n",
    "linear = {('q1','q1'):-588, ('q2','q2'):-1168}\n",
    "quadratic = {('q1','q2'):16}\n",
    "\n",
    "Q = dict(linear)\n",
    "Q.update(quadratic)\n",
    "\n",
    "sampleset = sampler_auto.sample_qubo(Q, num_reads=100)\n",
    "print(sampleset)"
   ]
  },
  {
   "cell_type": "code",
   "execution_count": 6,
   "id": "1f5bcedd",
   "metadata": {},
   "outputs": [],
   "source": [
    "sol_x = 5 + 1*0 + 2*0  #5 + 1*q1 + 2*q2\n"
   ]
  },
  {
   "cell_type": "code",
   "execution_count": 7,
   "id": "42698c0a",
   "metadata": {},
   "outputs": [
    {
     "data": {
      "text/plain": [
       "5"
      ]
     },
     "execution_count": 7,
     "metadata": {},
     "output_type": "execute_result"
    }
   ],
   "source": [
    "sol_x"
   ]
  },
  {
   "cell_type": "code",
   "execution_count": null,
   "id": "4eaf13aa",
   "metadata": {},
   "outputs": [],
   "source": [
    "# HW1. -10 <= x <= -7  :  random.randint(-10, -7)\n",
    "# HW2. 7 <= x <= 14    :  random.randint(7, 14)\n",
    "# Hint: think the size of range x first"
   ]
  },
  {
   "cell_type": "code",
   "execution_count": 10,
   "id": "76d13c28",
   "metadata": {},
   "outputs": [
    {
     "name": "stdout",
     "output_type": "stream",
     "text": [
      "ax = b\n",
      "a is 3\n",
      "b is 33\n"
     ]
    }
   ],
   "source": [
    "# HW 2\n",
    "# solve ax = b\n",
    "import numpy as np\n",
    "import random, math\n",
    "import copy\n",
    "\n",
    "a = random.randint(1, 3)\n",
    "x = random.randint(7, 14)  # HW: random.randint(7, 14)\n",
    "b = a*x\n",
    "print('ax = b')\n",
    "print('a is',a)\n",
    "print('b is',b)\n",
    "\n",
    "# Assumtion: we don't know 'x'\n",
    "# Goal: find x for the given equation 'ax = b'"
   ]
  },
  {
   "cell_type": "code",
   "execution_count": 21,
   "id": "df441aba",
   "metadata": {},
   "outputs": [
    {
     "name": "stdout",
     "output_type": "stream",
     "text": [
      "q1 is -63\n",
      "q2 is -108\n",
      "q3 is -144\n",
      "q1q2 is 36\n",
      "q1q3 is 72\n",
      "q2q3 is 144\n",
      "The lowest energy is -144\n",
      "[[ -63.   36.   72.]\n",
      " [   0. -108.  144.]\n",
      " [   0.    0. -144.]]\n",
      "Running code for D-Wave:\n",
      "\n",
      "from dwave.system import DWaveSampler, EmbeddingComposite\n",
      "sampler_auto = EmbeddingComposite(DWaveSampler(solver={'qpu': True}))\n",
      "\n",
      "linear = {('q1','q1'):-63.0, ('q2','q2'):-108.0, ('q3','q3'):-144.0}\n",
      "\n",
      "quadratic = {('q1','q2'):36.0, ('q1','q3'):72.0, ('q2','q3'):144.0}\n",
      "\n",
      "Q = dict(linear)\n",
      "Q.update(quadratic)\n",
      "\n",
      "sampleset = sampler_auto.sample_qubo(Q, num_reads=1000)\n",
      "print(sampleset)\n"
     ]
    }
   ],
   "source": [
    "q1 = a*a - 2*a*b + 14*a*a\n",
    "q2 = 4*a*a - 4*a*b + 28*a*a\n",
    "q3 = 16*a*a - 8*a*b + 56*a*a\n",
    "q1q2 = 4*a*a\n",
    "q1q3 = 8*a*a \n",
    "q2q3 = 16*a*a\n",
    "print('q1 is',q1)\n",
    "print('q2 is',q2)\n",
    "print('q3 is',q3)\n",
    "print('q1q2 is',q1q2)\n",
    "print('q1q3 is',q1q3)\n",
    "print('q2q3 is',q2q3)\n",
    "\n",
    "LE = -(49*a*a + b*b - 14*a*b)\n",
    "print('The lowest energy is',LE)\n",
    "\n",
    "qubits = 3\n",
    "QM = np.zeros((3,3))\n",
    "QM[0][0] = q1\n",
    "QM[1][1] = q2\n",
    "QM[2][2] = q3\n",
    "QM[0][1] = q1q2\n",
    "QM[0][2] = q1q3\n",
    "QM[1][2] = q2q3\n",
    "print(QM)\n",
    "\n",
    "# Print Python code for the run in D-Wave quantum processing unit\n",
    "print(\"Running code for D-Wave:\\n\")\n",
    "print(\"from dwave.system import DWaveSampler, EmbeddingComposite\")\n",
    "print(\"sampler_auto = EmbeddingComposite(DWaveSampler(solver={'qpu': True}))\\n\")\n",
    "print(\"linear = {\", end = \"\")\n",
    "for i in range(qubits - 1): \n",
    "    linear = i + 1\n",
    "    print (\"('q\",linear,\"','q\",linear,\"'):\",format(QM[i][i]),sep='', end = \", \")\n",
    "print (\"('q\",qubits,\"','q\",qubits,\"'):\",format(QM[qubits-1][qubits-1]),\"}\", sep='')\n",
    "\n",
    "print(\"\\nquadratic = {\", end = \"\")\n",
    "for i in range(qubits-1):\n",
    "    for j in range(i+1,qubits):\n",
    "        if QM[i][j] != 0:\n",
    "            qdrt1 = i + 1\n",
    "            qdrt2 = j + 1\n",
    "            if i == qubits-2 and j == qubits-1:\n",
    "                print (\"('q\",qdrt1,\"','q\",qdrt2,\"'):\",format(QM[i][j]), \"}\", sep='')\n",
    "            else:\n",
    "                print (\"('q\",qdrt1,\"','q\",qdrt2,\"'):\",format(QM[i][j]), sep ='', end = \", \")\n",
    "\n",
    "print(\"\\nQ = dict(linear)\")\n",
    "print(\"Q.update(quadratic)\\n\")\n",
    "\n",
    "qa_iter = 100\n",
    "print(\"sampleset = sampler_auto.sample_qubo(Q, num_reads=\",qa_iter,\")\", sep = \"\")\n",
    "print(\"print(sampleset)\") "
   ]
  },
  {
   "cell_type": "code",
   "execution_count": 22,
   "id": "24209c6a",
   "metadata": {
    "scrolled": true
   },
   "outputs": [
    {
     "name": "stdout",
     "output_type": "stream",
     "text": [
      "  q1 q2 q3 energy num_oc. chain_.\n",
      "0  0  0  1 -144.0     787     0.0\n",
      "1  1  0  1 -135.0      92     0.0\n",
      "2  1  1  0 -135.0     119     0.0\n",
      "3  0  1  0 -108.0       1     0.0\n",
      "4  0  1  1 -108.0       1     0.0\n",
      "['BINARY', 5 rows, 1000 samples, 3 variables]\n"
     ]
    }
   ],
   "source": [
    "from dwave.system import DWaveSampler, EmbeddingComposite\n",
    "sampler_auto = EmbeddingComposite(DWaveSampler(solver={'qpu': True}))\n",
    "\n",
    "linear = {('q1','q1'):-63.0, ('q2','q2'):-108.0, ('q3','q3'):-144.0}\n",
    "\n",
    "quadratic = {('q1','q2'):36.0, ('q1','q3'):72.0, ('q2','q3'):144.0}\n",
    "\n",
    "Q = dict(linear)\n",
    "Q.update(quadratic)\n",
    "\n",
    "sampleset = sampler_auto.sample_qubo(Q, num_reads=1000)\n",
    "print(sampleset)"
   ]
  },
  {
   "cell_type": "code",
   "execution_count": 26,
   "id": "23baef7a",
   "metadata": {},
   "outputs": [
    {
     "name": "stdout",
     "output_type": "stream",
     "text": [
      "11\n"
     ]
    }
   ],
   "source": [
    "answer = sampler_auto.sample_qubo(Q)\n",
    "qb_sol = list(answer.first[0].values())\n",
    "sol_x = 7 + 1*qb_sol[0] + 2*qb_sol[1] + 4*qb_sol[2] \n",
    "print(sol_x)"
   ]
  },
  {
   "cell_type": "code",
   "execution_count": 27,
   "id": "d14f39cb",
   "metadata": {},
   "outputs": [
    {
     "name": "stdout",
     "output_type": "stream",
     "text": [
      "ax = b\n",
      "a is 1\n",
      "b is -8\n"
     ]
    }
   ],
   "source": [
    "# HW 1\n",
    "# solve ax = b\n",
    "import numpy as np\n",
    "import random, math\n",
    "import copy\n",
    "\n",
    "a = random.randint(1, 3)\n",
    "x = random.randint(-10, -7)  # HW: random.randint(-10, -7)\n",
    "b = a*x\n",
    "print('ax = b')\n",
    "print('a is',a)\n",
    "print('b is',b)\n",
    "\n",
    "# Assumtion: we don't know 'x'\n",
    "# Goal: find x for the given equation 'ax = b'"
   ]
  },
  {
   "cell_type": "code",
   "execution_count": 33,
   "id": "fe5e1699",
   "metadata": {},
   "outputs": [
    {
     "name": "stdout",
     "output_type": "stream",
     "text": [
      "q1 is -3\n",
      "q2 is -4\n",
      "q1q2 is 4\n",
      "The lowest energy is -4\n",
      "[[-3.  4.]\n",
      " [ 0. -4.]]\n",
      "Running code for D-Wave:\n",
      "\n",
      "from dwave.system import DWaveSampler, EmbeddingComposite\n",
      "sampler_auto = EmbeddingComposite(DWaveSampler(solver={'qpu': True}))\n",
      "\n",
      "linear = {('q1','q1'):-3.0, ('q2','q2'):-4.0}\n",
      "\n",
      "quadratic = {('q1','q2'):4.0}\n",
      "\n",
      "Q = dict(linear)\n",
      "Q.update(quadratic)\n",
      "\n",
      "sampleset = sampler_auto.sample_qubo(Q, num_reads=100)\n",
      "print(sampleset)\n"
     ]
    }
   ],
   "source": [
    "q1 = a*a - 20*a*a - 2*a*b\n",
    "q2 = 4*a*a - 40*a*a - 4*a*b\n",
    "q1q2 = 4*a*a\n",
    "print('q1 is',q1)\n",
    "print('q2 is',q2)\n",
    "print('q1q2 is',q1q2)\n",
    "\n",
    "tl_val = -10\n",
    "c = b - tl_val*a\n",
    "LE = -(c*c)\n",
    "print('The lowest energy is',LE)\n",
    "\n",
    "qubits = 2\n",
    "QM = np.zeros((qubits,qubits))\n",
    "QM[0][0] = q1\n",
    "QM[1][1] = q2\n",
    "\n",
    "QM[0][1] = q1q2\n",
    "print(QM)\n",
    "\n",
    "# Print Python code for the run in D-Wave quantum processing unit\n",
    "print(\"Running code for D-Wave:\\n\")\n",
    "print(\"from dwave.system import DWaveSampler, EmbeddingComposite\")\n",
    "print(\"sampler_auto = EmbeddingComposite(DWaveSampler(solver={'qpu': True}))\\n\")\n",
    "print(\"linear = {\", end = \"\")\n",
    "for i in range(qubits - 1): \n",
    "    linear = i + 1\n",
    "    print (\"('q\",linear,\"','q\",linear,\"'):\",format(QM[i][i]),sep='', end = \", \")\n",
    "print (\"('q\",qubits,\"','q\",qubits,\"'):\",format(QM[qubits-1][qubits-1]),\"}\", sep='')\n",
    "\n",
    "print(\"\\nquadratic = {\", end = \"\")\n",
    "for i in range(qubits-1):\n",
    "    for j in range(i+1,qubits):\n",
    "        if QM[i][j] != 0:\n",
    "            qdrt1 = i + 1\n",
    "            qdrt2 = j + 1\n",
    "            if i == qubits-2 and j == qubits-1:\n",
    "                print (\"('q\",qdrt1,\"','q\",qdrt2,\"'):\",format(QM[i][j]), \"}\", sep='')\n",
    "            else:\n",
    "                print (\"('q\",qdrt1,\"','q\",qdrt2,\"'):\",format(QM[i][j]), sep ='', end = \", \")\n",
    "\n",
    "print(\"\\nQ = dict(linear)\")\n",
    "print(\"Q.update(quadratic)\\n\")\n",
    "\n",
    "qa_iter = 100\n",
    "print(\"sampleset = sampler_auto.sample_qubo(Q, num_reads=\",qa_iter,\")\", sep = \"\")\n",
    "print(\"print(sampleset)\") "
   ]
  },
  {
   "cell_type": "code",
   "execution_count": 32,
   "id": "175624c9",
   "metadata": {},
   "outputs": [
    {
     "name": "stdout",
     "output_type": "stream",
     "text": [
      "  q1 q2 energy num_oc. chain_.\n",
      "0  0  1   -4.0     100     0.0\n",
      "['BINARY', 1 rows, 100 samples, 2 variables]\n"
     ]
    }
   ],
   "source": [
    "from dwave.system import DWaveSampler, EmbeddingComposite\n",
    "sampler_auto = EmbeddingComposite(DWaveSampler(solver={'qpu': True}))\n",
    "\n",
    "linear = {('q1','q1'):-3.0, ('q2','q2'):-4.0}\n",
    "\n",
    "quadratic = {('q1','q2'):4.0}\n",
    "\n",
    "Q = dict(linear)\n",
    "Q.update(quadratic)\n",
    "\n",
    "sampleset = sampler_auto.sample_qubo(Q, num_reads=100)\n",
    "print(sampleset)"
   ]
  },
  {
   "cell_type": "code",
   "execution_count": 34,
   "id": "de4bc774",
   "metadata": {},
   "outputs": [
    {
     "name": "stdout",
     "output_type": "stream",
     "text": [
      "-8\n"
     ]
    }
   ],
   "source": [
    "answer = sampler_auto.sample_qubo(Q)\n",
    "qb_sol = list(answer.first[0].values())\n",
    "sol_x = tl_val + 1*qb_sol[0] + 2*qb_sol[1] \n",
    "print(sol_x)"
   ]
  },
  {
   "cell_type": "code",
   "execution_count": null,
   "id": "5c9d509d",
   "metadata": {},
   "outputs": [],
   "source": [
    "# HW1. -100 <= x <= -85  :  random.randint(-100, -85)\n",
    "# HW2. 73 <= x <= 80     :  random.randint(73, 80)\n",
    "# Hint: think the size of range x first"
   ]
  },
  {
   "cell_type": "code",
   "execution_count": 1,
   "id": "e4a484b2",
   "metadata": {},
   "outputs": [
    {
     "name": "stdout",
     "output_type": "stream",
     "text": [
      "ax = b\n",
      "a is 1\n",
      "b is -92\n"
     ]
    }
   ],
   "source": [
    "import numpy as np\n",
    "import random, math\n",
    "import copy\n",
    "\n",
    "a = random.randint(1, 3)\n",
    "x = random.randint(-100, -85)  # HW: random.randint(-100, -85)\n",
    "b = a*x\n",
    "print('ax = b')\n",
    "print('a is',a)\n",
    "print('b is',b)\n"
   ]
  },
  {
   "cell_type": "code",
   "execution_count": 2,
   "id": "17ebaf2e",
   "metadata": {},
   "outputs": [
    {
     "name": "stdout",
     "output_type": "stream",
     "text": [
      "q1 is -15\n",
      "q2 is -28\n",
      "q3 is -48\n",
      "q4 is -64\n",
      "q1q2 is 4\n",
      "q1q3 is 8\n",
      "q1q4 is 16\n",
      "q2q3 is 16\n",
      "q2q4 is 32\n",
      "q3q4 is 64\n",
      "The lowest energy is -64\n"
     ]
    }
   ],
   "source": [
    "q1 = a*a - 200*a*a - 2*a*b\n",
    "q2 = 4*a*a - 400*a*a - 4*a*b\n",
    "q3 = 16*a*a - 800*a*a - 8*a*b\n",
    "q4 = 64*a*a - 1600*a*a - 16*a*b\n",
    "q1q2 = 4*a*a\n",
    "q1q3 = 8*a*a\n",
    "q1q4 = 16*a*a\n",
    "q2q3 = 16*a*a\n",
    "q2q4 = 32*a*a\n",
    "q3q4 = 64*a*a\n",
    "print('q1 is',q1)\n",
    "print('q2 is',q2)\n",
    "print('q3 is',q3)\n",
    "print('q4 is',q4)\n",
    "print('q1q2 is',q1q2)\n",
    "print('q1q3 is',q1q3)\n",
    "print('q1q4 is',q1q4)\n",
    "print('q2q3 is',q2q3)\n",
    "print('q2q4 is',q2q4)\n",
    "print('q3q4 is',q3q4)\n",
    "\n",
    "LE = -(10000*a*a + b*b + 200*a*b)\n",
    "print('The lowest energy is',LE)"
   ]
  },
  {
   "cell_type": "code",
   "execution_count": 4,
   "id": "db0fafc4",
   "metadata": {},
   "outputs": [
    {
     "name": "stdout",
     "output_type": "stream",
     "text": [
      "  q1 q2 q3 q4 energy num_oc. chain_.\n",
      "0  0  0  0  1  -64.0      46     0.0\n",
      "1  1  0  0  1  -63.0      21     0.0\n",
      "2  1  1  1  0  -63.0      24     0.0\n",
      "3  0  1  1  0  -60.0       3     0.0\n",
      "4  0  1  0  1  -60.0       5     0.0\n",
      "5  1  1  0  1  -55.0       1     0.0\n",
      "['BINARY', 6 rows, 100 samples, 4 variables]\n"
     ]
    }
   ],
   "source": [
    "from dwave.system import DWaveSampler, EmbeddingComposite\n",
    "sampler_auto = EmbeddingComposite(DWaveSampler(solver={'qpu': True}))\n",
    "\n",
    "linear = {('q1','q1'):-15, ('q2','q2'):-28, ('q3','q3'):-48, ('q4','q4'):-64}\n",
    "quadratic = {('q1','q2'):4,('q1','q3'):8,('q1','q4'):16,('q2','q3'):16,('q2','q4'):32,('q3','q4'):64}\n",
    "\n",
    "Q = dict(linear)\n",
    "Q.update(quadratic)\n",
    "\n",
    "sampleset = sampler_auto.sample_qubo(Q, num_reads=100)\n",
    "print(sampleset)"
   ]
  },
  {
   "cell_type": "code",
   "execution_count": 6,
   "id": "a4db2cc9",
   "metadata": {},
   "outputs": [
    {
     "name": "stdout",
     "output_type": "stream",
     "text": [
      "-92\n"
     ]
    }
   ],
   "source": [
    "sol_x = 1*0 + 2*0 + 4*0 + 8*1 -100\n",
    "print (sol_x)"
   ]
  },
  {
   "cell_type": "code",
   "execution_count": 8,
   "id": "51f458cb",
   "metadata": {},
   "outputs": [
    {
     "name": "stdout",
     "output_type": "stream",
     "text": [
      "ax = b\n",
      "a is 3\n",
      "b is 219\n"
     ]
    }
   ],
   "source": [
    "import numpy as np\n",
    "import random, math\n",
    "import copy\n",
    "\n",
    "a = random.randint(1, 3)\n",
    "x = random.randint(73, 80)  #random.randint(73, 80)\n",
    "b = a*x\n",
    "print('ax = b')\n",
    "print('a is',a)\n",
    "print('b is',b)"
   ]
  },
  {
   "cell_type": "code",
   "execution_count": 10,
   "id": "d93e466c",
   "metadata": {},
   "outputs": [
    {
     "name": "stdout",
     "output_type": "stream",
     "text": [
      "q1 is 9\n",
      "q2 is 36\n",
      "q3 is 144\n",
      "q1q2 is 36\n",
      "q1q3 is 72\n",
      "q1q3 is 144\n",
      "The lowest energy is 0\n"
     ]
    }
   ],
   "source": [
    "q1 = a*a + 146*a*a - 2*a*b\n",
    "q2 = 4*a*a + 292*a*a - 4*a*b\n",
    "q3 = 16*a*a + 584*a*a - 8*a*b\n",
    "q1q2 = 4*a*a\n",
    "q1q3 = 8*a*a\n",
    "q2q3 = 16*a*a\n",
    "LE = -(5329*a*a + b*b - 146*a*b)\n",
    "print('q1 is',q1)\n",
    "print('q2 is',q2)\n",
    "print('q3 is',q3)\n",
    "print('q1q2 is',q1q2)\n",
    "print('q1q3 is',q1q3)\n",
    "print('q1q3 is',q2q3)\n",
    "print('The lowest energy is',LE)"
   ]
  },
  {
   "cell_type": "code",
   "execution_count": 11,
   "id": "9fb1f345",
   "metadata": {},
   "outputs": [
    {
     "name": "stdout",
     "output_type": "stream",
     "text": [
      "  q1 q2 q3 energy num_oc. chain_.\n",
      "0  0  0  0    0.0      78     0.0\n",
      "1  1  0  0    9.0      22     0.0\n",
      "['BINARY', 2 rows, 100 samples, 3 variables]\n"
     ]
    }
   ],
   "source": [
    "from dwave.system import DWaveSampler, EmbeddingComposite\n",
    "sampler_auto = EmbeddingComposite(DWaveSampler(solver={'qpu': True}))\n",
    "\n",
    "linear = {('q1','q1'):9, ('q2','q2'):36, ('q3','q3'):144}\n",
    "quadratic = {('q1','q2'):36,('q1','q3'):72,('q2','q3'):144}\n",
    "\n",
    "Q = dict(linear)\n",
    "Q.update(quadratic)\n",
    "\n",
    "sampleset = sampler_auto.sample_qubo(Q, num_reads=100)\n",
    "print(sampleset)"
   ]
  },
  {
   "cell_type": "code",
   "execution_count": 12,
   "id": "95f4b6ac",
   "metadata": {},
   "outputs": [
    {
     "name": "stdout",
     "output_type": "stream",
     "text": [
      "73\n"
     ]
    }
   ],
   "source": [
    "sol_x = 1*0 + 2*0 + 4*0 + 73\n",
    "print (sol_x)"
   ]
  },
  {
   "cell_type": "code",
   "execution_count": null,
   "id": "37bc7df3",
   "metadata": {},
   "outputs": [],
   "source": []
  }
 ],
 "metadata": {
  "kernelspec": {
   "display_name": "Python 3 (ipykernel)",
   "language": "python",
   "name": "python3"
  },
  "language_info": {
   "codemirror_mode": {
    "name": "ipython",
    "version": 3
   },
   "file_extension": ".py",
   "mimetype": "text/x-python",
   "name": "python",
   "nbconvert_exporter": "python",
   "pygments_lexer": "ipython3",
   "version": "3.8.13"
  }
 },
 "nbformat": 4,
 "nbformat_minor": 5
}
