{
 "cells": [
  {
   "cell_type": "code",
   "execution_count": 1,
   "id": "a6cfb853",
   "metadata": {},
   "outputs": [
    {
     "name": "stdout",
     "output_type": "stream",
     "text": [
      "a1*x + b1*y = c1\n",
      "a2*x + b2*y = c2\n",
      "a1 is 3\n",
      "b1 is 1\n",
      "a2 is 1\n",
      "b2 is 1\n",
      "Assumption: We do not know x and y\n",
      "x is 0\n",
      "y is 2\n"
     ]
    }
   ],
   "source": [
    "# two line intersection, two dimenstional linear system\n",
    "\n",
    "# a1*x + b1*y = c1\n",
    "# a2*x + b2*y = c2\n",
    "import numpy as np\n",
    "import random, math\n",
    "import copy\n",
    "\n",
    "a1 = random.randint(1, 3)\n",
    "b1 = random.randint(1, 3)\n",
    "a2 = random.randint(1, 3)\n",
    "b2 = random.randint(1, 3)\n",
    "\n",
    "# variables are x and y\n",
    "x = random.randint(0, 3) # 4 integers\n",
    "y = random.randint(0, 3)\n",
    "\n",
    "c1 = a1*x + b1*y\n",
    "c2 = a2*x + b2*y\n",
    "\n",
    "print('a1*x + b1*y = c1')\n",
    "print('a2*x + b2*y = c2')\n",
    "print('a1 is',a1)\n",
    "print('b1 is',b1)\n",
    "print('a2 is',a2)\n",
    "print('b2 is',b2)\n",
    "\n",
    "print('Assumption: We do not know x and y')\n",
    "print('x is',x)\n",
    "print('y is',y)"
   ]
  },
  {
   "cell_type": "code",
   "execution_count": null,
   "id": "925aa4f0",
   "metadata": {},
   "outputs": [],
   "source": [
    "# For QUBO model, calculate (a1*x + b1*y - c1)^2 + (a2*x + b2*y - c2)^2 with qubit notation for x and y\n",
    "# x = q1 + 2q2, y = q3 + 2q4"
   ]
  },
  {
   "cell_type": "code",
   "execution_count": 6,
   "id": "95dfd862",
   "metadata": {},
   "outputs": [
    {
     "name": "stdout",
     "output_type": "stream",
     "text": [
      "q1 is -6\n",
      "q2 is 8\n",
      "q3 is -6\n",
      "q4 is -8\n",
      "q1q2 is 40\n",
      "q1q3 is 8\n",
      "q1q4 is 16\n",
      "q2q3 is 16\n",
      "q2q4 is 32\n",
      "q3q4 is 8\n",
      "The lowest energy is -8\n"
     ]
    }
   ],
   "source": [
    "q1 = a1*a1 - 2*c1*a1 +  a2*a2 - 2*c2*a2\n",
    "q2 = 4*a1*a1 - 4*c1*a1 + 4*a2*a2 - 4*c2*a2\n",
    "q3 = b1*b1 - 2*c1*b1 + b2*b2 - 2*c2*b2\n",
    "q4 = 4*b1*b1 - 4*c1*b1 + 4*b2*b2 - 4*c2*b2\n",
    "q1q2 = 4*a1*a1 + 4*a2*a2\n",
    "q1q3 = 2*a1*b1 + 2*a2*b2\n",
    "q1q4 = 4*a1*b1 + 4*a2*b2\n",
    "q2q3 = 4*a1*b1 + 4*a2*b2\n",
    "q2q4 = 8*a1*b1 + 8*a2*b2\n",
    "q3q4 = 4*b1*b1 + 4*b2*b2\n",
    "\n",
    "print('q1 is',q1)\n",
    "print('q2 is',q2)\n",
    "print('q3 is',q3)\n",
    "print('q4 is',q4)\n",
    "print('q1q2 is',q1q2)\n",
    "print('q1q3 is',q1q3)\n",
    "print('q1q4 is',q1q4)\n",
    "print('q2q3 is',q2q3)\n",
    "print('q2q4 is',q2q4)\n",
    "print('q3q4 is',q3q4)\n",
    "\n",
    "LE = -(c1*c1 + c1*c2)\n",
    "print('The lowest energy is',LE)"
   ]
  },
  {
   "cell_type": "code",
   "execution_count": 7,
   "id": "8858eb42",
   "metadata": {},
   "outputs": [
    {
     "name": "stdout",
     "output_type": "stream",
     "text": [
      "  q1 q2 q3 q4 energy num_oc. chain_.\n",
      "0  0  0  0  1   -8.0      52     0.0\n",
      "1  0  0  1  0   -6.0      22     0.0\n",
      "2  0  0  1  1   -6.0      14     0.0\n",
      "3  1  0  0  0   -5.0      11     0.0\n",
      "4  1  0  0  1    3.0       1     0.0\n",
      "['BINARY', 5 rows, 100 samples, 4 variables]\n"
     ]
    }
   ],
   "source": [
    "from dwave.system import DWaveSampler, EmbeddingComposite\n",
    "sampler_auto = EmbeddingComposite(DWaveSampler(solver={'qpu': True}))\n",
    "\n",
    "linear = {('q1','q1'):-5, ('q2','q2'):8, ('q3','q3'):-6, ('q4','q4'):-8}\n",
    "quadratic = {('q1','q2'):40,('q1','q3'):8,('q1','q4'):16,('q2','q3'):16,('q2','q4'):32,('q3','q4'):8}\n",
    "\n",
    "Q = dict(linear)\n",
    "Q.update(quadratic)\n",
    "\n",
    "sampleset = sampler_auto.sample_qubo(Q, num_reads=100)\n",
    "print(sampleset)"
   ]
  },
  {
   "cell_type": "code",
   "execution_count": 2,
   "id": "4783c5b8",
   "metadata": {},
   "outputs": [
    {
     "name": "stdout",
     "output_type": "stream",
     "text": [
      "x is  0\n",
      "y is  2\n"
     ]
    }
   ],
   "source": [
    "sol_x = 1*0 + 2*0\n",
    "sol_y = 1*0 + 2*1\n",
    "print('x is ',sol_x)\n",
    "print('y is ',sol_y)"
   ]
  },
  {
   "cell_type": "code",
   "execution_count": null,
   "id": "abfa89c1",
   "metadata": {},
   "outputs": [],
   "source": []
  }
 ],
 "metadata": {
  "kernelspec": {
   "display_name": "Python 3 (ipykernel)",
   "language": "python",
   "name": "python3"
  },
  "language_info": {
   "codemirror_mode": {
    "name": "ipython",
    "version": 3
   },
   "file_extension": ".py",
   "mimetype": "text/x-python",
   "name": "python",
   "nbconvert_exporter": "python",
   "pygments_lexer": "ipython3",
   "version": "3.8.13"
  }
 },
 "nbformat": 4,
 "nbformat_minor": 5
}
