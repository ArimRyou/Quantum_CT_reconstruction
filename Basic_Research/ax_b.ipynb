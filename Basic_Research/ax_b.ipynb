{
 "cells": [
  {
   "cell_type": "code",
   "execution_count": 9,
   "id": "6ac67e34",
   "metadata": {},
   "outputs": [
    {
     "name": "stdout",
     "output_type": "stream",
     "text": [
      "ax = b\n",
      "a is 2\n",
      "b is 0\n"
     ]
    }
   ],
   "source": [
    "# solve ax = b\n",
    "import numpy as np\n",
    "import random, math\n",
    "import copy\n",
    "\n",
    "a = 2\n",
    "x = random.randint(0, 3)  # HW: random.randint(0, 7)\n",
    "b = a*x\n",
    "print('ax = b')\n",
    "print('a is',a)\n",
    "print('b is',b)\n",
    "\n",
    "# Assumtion: we don't know 'x'\n",
    "# Goal: find x for the given equation 'ax = b'"
   ]
  },
  {
   "cell_type": "code",
   "execution_count": 10,
   "id": "b564b4ab",
   "metadata": {},
   "outputs": [
    {
     "name": "stdout",
     "output_type": "stream",
     "text": [
      "q1 is 4\n",
      "q2 is 16\n",
      "q1q2 is 16\n"
     ]
    }
   ],
   "source": [
    "q1 = a*a - 2*a*b\n",
    "q2 = 4*a*a - 4*a*b\n",
    "q1q2 = 4*a*a\n",
    "print('q1 is',q1)\n",
    "print('q2 is',q2)\n",
    "print('q1q2 is',q1q2)\n",
    "\n",
    "# HW: q1, q2, q3, q1q2, q1q3, q2q3"
   ]
  },
  {
   "cell_type": "code",
   "execution_count": 11,
   "id": "f4e604a6",
   "metadata": {},
   "outputs": [
    {
     "name": "stdout",
     "output_type": "stream",
     "text": [
      "  q1 q2 energy num_oc. chain_.\n",
      "0  0  0    0.0      99     0.0\n",
      "1  1  0    4.0       1     0.0\n",
      "['BINARY', 2 rows, 100 samples, 2 variables]\n"
     ]
    }
   ],
   "source": [
    "from dwave.system import DWaveSampler, EmbeddingComposite\n",
    "sampler_auto = EmbeddingComposite(DWaveSampler(solver={'qpu': True}))\n",
    "\n",
    "linear = {('q1','q1'):4, ('q2','q2'):16}\n",
    "quadratic = {('q1','q2'):16}\n",
    "\n",
    "Q = dict(linear)\n",
    "Q.update(quadratic)\n",
    "\n",
    "sampleset = sampler_auto.sample_qubo(Q, num_reads=100)\n",
    "print(sampleset)"
   ]
  },
  {
   "cell_type": "code",
   "execution_count": 12,
   "id": "69f3f6d6",
   "metadata": {},
   "outputs": [],
   "source": [
    "sol_x = 0*1 + 0*2   #Hw sol is 'q1*1 + q2*2 + q3*4'"
   ]
  },
  {
   "cell_type": "code",
   "execution_count": 14,
   "id": "6f233101",
   "metadata": {},
   "outputs": [
    {
     "name": "stdout",
     "output_type": "stream",
     "text": [
      "0\n"
     ]
    }
   ],
   "source": [
    "print(sol_x)"
   ]
  },
  {
   "cell_type": "code",
   "execution_count": 1,
   "id": "8e18391a",
   "metadata": {},
   "outputs": [
    {
     "name": "stdout",
     "output_type": "stream",
     "text": [
      "ax = b\n",
      "a is 2\n",
      "b is 10\n"
     ]
    }
   ],
   "source": [
    "# solve ax = b\n",
    "import numpy as np\n",
    "import random, math\n",
    "import copy\n",
    "\n",
    "a = 2\n",
    "x = random.randint(0, 7)  # HW: random.randint(0, 7)\n",
    "b = a*x\n",
    "print('ax = b')\n",
    "print('a is',a)\n",
    "print('b is',b)\n",
    "\n",
    "# Assumtion: we don't know 'x'\n",
    "# Goal: find x for the given equation 'ax = b'"
   ]
  },
  {
   "cell_type": "code",
   "execution_count": 2,
   "id": "338a4539",
   "metadata": {},
   "outputs": [
    {
     "name": "stdout",
     "output_type": "stream",
     "text": [
      "q1 is -36\n",
      "q2 is -64\n",
      "q3 is -96\n",
      "q1q2 is 16\n",
      "q1q3 is 32\n",
      "q2q3 is 64\n"
     ]
    }
   ],
   "source": [
    "q1 = a*a - 2*a*b\n",
    "q2 = 4*a*a - 4*a*b\n",
    "q3 = 16*a*a - 8*a*b\n",
    "q1q2 = 4*a*a\n",
    "q1q3 = 8*a*a\n",
    "q2q3 = 16*a*a\n",
    "print('q1 is',q1)\n",
    "print('q2 is',q2)\n",
    "print('q3 is',q3)\n",
    "print('q1q2 is',q1q2)\n",
    "print('q1q3 is',q1q3)\n",
    "print('q2q3 is',q2q3)\n",
    "\n",
    "# HW: q1, q2, q3, q1q2, q1q3, q2q3"
   ]
  },
  {
   "cell_type": "code",
   "execution_count": 3,
   "id": "d8441c84",
   "metadata": {},
   "outputs": [
    {
     "name": "stdout",
     "output_type": "stream",
     "text": [
      "  q1 q2 q3 energy num_oc. chain_b.\n",
      "0  1  0  1 -100.0     404      0.0\n",
      "1  0  0  1  -96.0      41      0.0\n",
      "2  0  1  1  -96.0      53      0.0\n",
      "3  1  1  0  -84.0       1      0.0\n",
      "4  1  1  1  -84.0       1 0.333333\n",
      "['BINARY', 5 rows, 500 samples, 3 variables]\n"
     ]
    }
   ],
   "source": [
    "from dwave.system import DWaveSampler, EmbeddingComposite\n",
    "sampler_auto = EmbeddingComposite(DWaveSampler(solver={'qpu': True}))\n",
    "\n",
    "linear = {('q1','q1'):-36, ('q2','q2'):-64, ('q3','q3'):-96}\n",
    "quadratic = {('q1','q2'):16, ('q1','q3'):32, ('q2','q3'):64}\n",
    "\n",
    "Q = dict(linear)\n",
    "Q.update(quadratic)\n",
    "\n",
    "sampleset = sampler_auto.sample_qubo(Q, num_reads=500)\n",
    "print(sampleset)"
   ]
  },
  {
   "cell_type": "code",
   "execution_count": 7,
   "id": "27cc9ae4",
   "metadata": {},
   "outputs": [
    {
     "name": "stdout",
     "output_type": "stream",
     "text": [
      "5\n"
     ]
    }
   ],
   "source": [
    "sol_x = (1*1 + 2*0 + 4*1)  #Hw sol is 'q1*1 + q2*2 + q3*4'\n",
    "print(sol_x)"
   ]
  },
  {
   "cell_type": "code",
   "execution_count": 8,
   "id": "617c0f5e",
   "metadata": {},
   "outputs": [
    {
     "data": {
      "text/plain": [
       "True"
      ]
     },
     "execution_count": 8,
     "metadata": {},
     "output_type": "execute_result"
    }
   ],
   "source": [
    "a*sol_x == b"
   ]
  },
  {
   "cell_type": "code",
   "execution_count": 1,
   "id": "44c3d2cc",
   "metadata": {},
   "outputs": [
    {
     "name": "stdout",
     "output_type": "stream",
     "text": [
      "ax = b\n",
      "a is 1\n",
      "b is -1\n"
     ]
    }
   ],
   "source": [
    "# solve ax = b\n",
    "import numpy as np\n",
    "import random, math\n",
    "import copy\n",
    "\n",
    "a = random.randint(1, 3)\n",
    "x = random.randint(-3, 3)  # HW: random.randint(-3, 3)\n",
    "b = a*x\n",
    "print('ax = b')\n",
    "print('a is',a)\n",
    "print('b is',b)\n",
    "\n",
    "# Assumtion: we don't know 'x'\n",
    "# Goal: find x for the given equation 'ax = b'"
   ]
  },
  {
   "cell_type": "code",
   "execution_count": 2,
   "id": "df0f6209",
   "metadata": {},
   "outputs": [
    {
     "name": "stdout",
     "output_type": "stream",
     "text": [
      "q1 is 3\n",
      "q2 is 8\n",
      "q3 is -1\n",
      "q4 is 0\n",
      "q1q2 is 4\n",
      "q1q3 is -2\n",
      "q1q4 is -4\n",
      "q2q3 is -4\n",
      "q2q4 is -8\n",
      "q3q4 is 4\n"
     ]
    }
   ],
   "source": [
    "q1 = a*a - 2*a*b\n",
    "q2 = 4*a*a - 4*a*b\n",
    "q3 = a*a + 2*a*b\n",
    "q4 = 4*a*a + 4*a*b\n",
    "q1q2 = 4*a*a\n",
    "q1q3 = -2*a*a\n",
    "q1q4 = -4*a*a\n",
    "q2q3 = -4*a*a\n",
    "q2q4 = -8*a*a\n",
    "q3q4 = 4*a*a\n",
    "print('q1 is',q1)\n",
    "print('q2 is',q2)\n",
    "print('q3 is',q3)\n",
    "print('q4 is',q4)\n",
    "print('q1q2 is',q1q2)\n",
    "print('q1q3 is',q1q3)\n",
    "print('q1q4 is',q1q4)\n",
    "print('q2q3 is',q2q3)\n",
    "print('q2q4 is',q2q4)\n",
    "print('q3q4 is',q3q4)"
   ]
  },
  {
   "cell_type": "code",
   "execution_count": 3,
   "id": "953f6669",
   "metadata": {},
   "outputs": [
    {
     "name": "stdout",
     "output_type": "stream",
     "text": [
      "  q1 q2 q3 q4 energy num_oc. chain_.\n",
      "0  0  0  1  0   -1.0      98     0.0\n",
      "1  0  1  1  1   -1.0     167     0.0\n",
      "2  1  0  0  1   -1.0     192     0.0\n",
      "3  1  0  1  1    0.0       5     0.0\n",
      "4  1  1  1  1    0.0      12     0.0\n",
      "5  1  0  1  0    0.0       8     0.0\n",
      "6  0  1  0  1    0.0       8     0.0\n",
      "7  0  0  0  1    0.0       3     0.0\n",
      "8  0  0  0  0    0.0       7     0.0\n",
      "['BINARY', 9 rows, 500 samples, 4 variables]\n"
     ]
    }
   ],
   "source": [
    "from dwave.system import DWaveSampler, EmbeddingComposite\n",
    "sampler_auto = EmbeddingComposite(DWaveSampler(solver={'qpu': True}))\n",
    "\n",
    "linear = {('q1','q1'):3, ('q2','q2'):8, ('q3','q3'):-1, ('q4','q4'):0}\n",
    "quadratic = {('q1','q2'):4, ('q1','q3'):-2, ('q2','q3'):-4, ('q1','q4'):-4, ('q2','q4'):-8, ('q3','q4'):4,}\n",
    "\n",
    "Q = dict(linear)\n",
    "Q.update(quadratic)\n",
    "\n",
    "sampleset = sampler_auto.sample_qubo(Q, num_reads=500)\n",
    "print(sampleset)"
   ]
  },
  {
   "cell_type": "code",
   "execution_count": 4,
   "id": "9172ce01",
   "metadata": {},
   "outputs": [
    {
     "name": "stdout",
     "output_type": "stream",
     "text": [
      "-1\n"
     ]
    }
   ],
   "source": [
    "sol_x = (1*0 + 2*0 - 1*1 -2*0)  #Hw sol is '1*q1 + 2*q2 - 1*q3 -2*q4'\n",
    "print(sol_x)"
   ]
  },
  {
   "cell_type": "code",
   "execution_count": 8,
   "id": "2334bfd5",
   "metadata": {},
   "outputs": [
    {
     "data": {
      "text/plain": [
       "False"
      ]
     },
     "execution_count": 8,
     "metadata": {},
     "output_type": "execute_result"
    }
   ],
   "source": [
    "a*sol_x == b"
   ]
  },
  {
   "cell_type": "code",
   "execution_count": null,
   "id": "a6c41bc6",
   "metadata": {},
   "outputs": [],
   "source": []
  }
 ],
 "metadata": {
  "kernelspec": {
   "display_name": "Python 3 (ipykernel)",
   "language": "python",
   "name": "python3"
  },
  "language_info": {
   "codemirror_mode": {
    "name": "ipython",
    "version": 3
   },
   "file_extension": ".py",
   "mimetype": "text/x-python",
   "name": "python",
   "nbconvert_exporter": "python",
   "pygments_lexer": "ipython3",
   "version": "3.8.13"
  }
 },
 "nbformat": 4,
 "nbformat_minor": 5
}
