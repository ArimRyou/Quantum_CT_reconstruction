{
 "cells": [
  {
   "cell_type": "code",
   "execution_count": 8,
   "id": "30d16796",
   "metadata": {},
   "outputs": [
    {
     "name": "stdout",
     "output_type": "stream",
     "text": [
      "a00 is 0.0\n",
      "a01 is 1.0\n",
      "a10 is 3.0\n",
      "a11 is 3.0\n",
      "sino00 is 3.0\n",
      "sino01 is 6.0\n",
      "sino10 is 4.0\n",
      "sino11 is 1.0\n"
     ]
    },
    {
     "data": {
      "image/png": "[encoded data removed]",
      "text/plain": [
       "<Figure size 432x288 with 1 Axes>"
      ]
     },
     "metadata": {
      "needs_background": "light"
     },
     "output_type": "display_data"
    },
    {
     "data": {
      "image/png": "[encoded data removed]",
      "text/plain": [
       "<Figure size 432x288 with 1 Axes>"
      ]
     },
     "metadata": {
      "needs_background": "light"
     },
     "output_type": "display_data"
    }
   ],
   "source": [
    "# two line intersection, two dimenstional linear system\n",
    "\n",
    "# a1*x + b1*y = c1\n",
    "# a2*x + b2*y = c2\n",
    "import numpy as np\n",
    "import random, math\n",
    "import copy\n",
    "import matplotlib.pyplot as plt\n",
    "import cv2\n",
    "\n",
    "## binary CT image with 2 by 2\n",
    "# for 2 by 2 CT image reconstruction, we need 2 projections\n",
    "# CT image      projection with 0 degree    90degree\n",
    "# a00 a01       sino00 = a00+a10            sino01 = a10+a11\n",
    "# a10 a11       sino10 = a01+a11            sino11 = a00+a01\n",
    "\n",
    "a = np.zeros((2,2))\n",
    "sino = np.zeros((2,2))\n",
    "\n",
    "rd_min = 0\n",
    "rd_max = 3\n",
    "\n",
    "# we make an image 'a' to make a sinogram 'sino'.\n",
    "# our assumption is we don't know a cross sectional area 'a'\n",
    "a[0][0] = random.randint(rd_min, rd_max)\n",
    "a[0][1] = random.randint(rd_min, rd_max)\n",
    "a[1][0] = random.randint(rd_min, rd_max)\n",
    "a[1][1] = random.randint(rd_min, rd_max)\n",
    "\n",
    "# variables are x and y\n",
    "sino[0][0] = a[0][0]+a[1][0]\n",
    "sino[1][0] = a[0][1]+a[1][1]\n",
    "sino[0][1] = a[1][0]+a[1][1]\n",
    "sino[1][1] = a[0][0]+a[0][1]\n",
    "\n",
    "print('a00 is',a[0][0])\n",
    "print('a01 is',a[0][1])\n",
    "print('a10 is',a[1][0])\n",
    "print('a11 is',a[1][1])\n",
    "print('sino00 is',sino[0][0])\n",
    "print('sino01 is',sino[0][1])\n",
    "print('sino10 is',sino[1][0])\n",
    "print('sino11 is',sino[1][1])\n",
    "\n",
    "plt.figure()           \n",
    "plt.title('Random CT Image')\n",
    "plt.imshow(a, vmin=rd_min, vmax=rd_max)\n",
    "plt.show()\n",
    "\n",
    "plt.figure()\n",
    "plt.title('Sinogram')\n",
    "plt.xlabel('Parallel Rotation Angle - \\u03B8 (degrees)')\n",
    "plt.ylabel('Parallel Sensor Position - x $\\prime$ (pixels)')\n",
    "plt.imshow(sino, aspect='auto', extent=[0,180,2,0])\n",
    "plt.show()\n",
    "\n",
    "# Assumption is we don't know array 'a'"
   ]
  },
  {
   "cell_type": "code",
   "execution_count": 11,
   "id": "6c6c53fe",
   "metadata": {},
   "outputs": [],
   "source": [
    "# Assumption is we don't know array 'a'\n",
    "# CT image with qubit variables\n",
    "# Our goal is comparing two X-rays: 1) sino, 2) Radon transform\n",
    "# q1 q2\n",
    "# q3 q4\n",
    "\n",
    "#q1 + q3 = sino[0][0]\n",
    "#q2 + q4 = sino[1][0]\n",
    "#q3 + q4 = sino[0][1]\n",
    "#q1 + q2 = sino[1][1]\n",
    "# need 3 more equation"
   ]
  },
  {
   "cell_type": "code",
   "execution_count": 11,
   "id": "6c6d17a4",
   "metadata": {},
   "outputs": [
    {
     "name": "stdout",
     "output_type": "stream",
     "text": [
      "q1 is -6.0\n",
      "q2 is -8.0\n",
      "q3 is -8.0\n",
      "q4 is -12.0\n",
      "q5 is -16.0\n",
      "q6 is -28.0\n",
      "q7 is -18.0\n",
      "q8 is -32.0\n",
      "q1q2 is 8\n",
      "q1q3 is 2\n",
      "q1q4 is 4\n",
      "q1q5 is 2\n",
      "q1q6 is 4\n",
      "q2q3 is 4\n",
      "q2q4 is 8\n",
      "q2q5 is 4\n",
      "q2q6 is 8\n",
      "q3q4 is 8\n",
      "q3q7 is 2\n",
      "q3q8 is 4\n",
      "q4q7 is 4\n",
      "q4q8 is 8\n",
      "q5q6 is 8\n",
      "q5q7 is 2\n",
      "q5q8 is 4\n",
      "q6q7 is 4\n",
      "q6q8 is 8\n",
      "q7q8 is 8\n",
      "sino00 is 3.0\n",
      "sino01 is 6.0\n",
      "sino10 is 4.0\n",
      "sino11 is 1.0\n",
      "The lowest energy is -62.0\n"
     ]
    }
   ],
   "source": [
    "q1 = 1 - 2*sino[0][0] + 1 - 2*sino[1][1]   # coefficient of q1 (linear term)\n",
    "q2 = 4 - 4*sino[0][0] + 4 - 4*sino[1][1]\n",
    "q3 = 1 - 2*sino[1][1] + 1 - 2*sino[1][0]\n",
    "q4 = 4 - 4*sino[1][1] + 4 - 4*sino[1][0]\n",
    "q5 = 1 - 2*sino[0][0] + 1 - 2*sino[0][1]\n",
    "q6 = 4 - 4*sino[0][0] + 4 - 4*sino[0][1]\n",
    "q7 = 1 - 2*sino[1][0] + 1 - 2*sino[0][1]\n",
    "q8 = 4 - 4*sino[1][0] + 4 - 4*sino[0][1]\n",
    "q1q2 = 4 + 4  # coefficient of q1q2 (quadratic term)\n",
    "q1q3 = 2 \n",
    "q1q4 = 4\n",
    "q1q5 = 2\n",
    "q1q6 = 4\n",
    "q2q4 = 8\n",
    "q2q3 = 4\n",
    "q2q5 = 4\n",
    "q2q6 = 8\n",
    "q3q4 = 4 + 4\n",
    "q3q7 = 2\n",
    "q3q8 = 4\n",
    "q4q7 = 4\n",
    "q4q8 = 8\n",
    "q5q6 = 4 + 4\n",
    "q5q7 = 2\n",
    "q5q8 = 4\n",
    "q6q7 = 4\n",
    "q6q8 = 8\n",
    "q7q8 = 4 + 4\n",
    "\n",
    "print('q1 is',q1)\n",
    "print('q2 is',q2)\n",
    "print('q3 is',q3)\n",
    "print('q4 is',q4)\n",
    "print('q5 is',q5)\n",
    "print('q6 is',q6)\n",
    "print('q7 is',q7)\n",
    "print('q8 is',q8)\n",
    "print('q1q2 is',q1q2)\n",
    "print('q1q3 is',q1q3)\n",
    "print('q1q4 is',q1q4)\n",
    "print('q1q5 is',q1q5)\n",
    "print('q1q6 is',q1q6)\n",
    "print('q2q3 is',q2q3)\n",
    "print('q2q4 is',q2q4)\n",
    "print('q2q5 is',q2q5)\n",
    "print('q2q6 is',q2q6)\n",
    "print('q3q4 is',q3q4)\n",
    "print('q3q7 is',q3q7)\n",
    "print('q3q8 is',q3q8)\n",
    "print('q4q7 is',q4q7)\n",
    "print('q4q8 is',q4q8)\n",
    "print('q5q6 is',q5q6)\n",
    "print('q5q7 is',q5q7)\n",
    "print('q5q8 is',q5q8)\n",
    "print('q6q7 is',q6q7)\n",
    "print('q6q8 is',q6q8)\n",
    "print('q7q8 is',q7q8)\n",
    "\n",
    "print('sino00 is',sino[0][0])\n",
    "print('sino01 is',sino[0][1])\n",
    "print('sino10 is',sino[1][0])\n",
    "print('sino11 is',sino[1][1])\n",
    "\n",
    "LE = -(sino[0][0]*sino[0][0] + sino[1][0]*sino[1][0] + sino[0][1]*sino[0][1] + sino[1][1]*sino[1][1])\n",
    "print('The lowest energy is',LE)"
   ]
  },
  {
   "cell_type": "code",
   "execution_count": 12,
   "id": "cda54375",
   "metadata": {},
   "outputs": [
    {
     "name": "stdout",
     "output_type": "stream",
     "text": [
      "   q1 q2 q3 q4 q5 q6 q7 q8 energy num_oc. chain_.\n",
      "0   0  0  1  0  1  1  1  1  -62.0      52     0.0\n",
      "1   0  0  0  1  1  1  0  1  -60.0       4     0.0\n",
      "2   1  0  0  0  0  1  1  1  -60.0       4     0.0\n",
      "3   1  0  0  0  1  1  1  1  -60.0       6     0.0\n",
      "4   0  0  0  1  1  1  1  1  -60.0      11     0.0\n",
      "5   1  0  1  0  1  1  1  1  -60.0       5     0.0\n",
      "6   1  0  1  0  0  1  1  1  -60.0       3     0.0\n",
      "7   0  0  1  0  1  1  0  1  -60.0       2     0.0\n",
      "8   0  0  0  0  1  1  1  1  -60.0       9     0.0\n",
      "9   0  0  0  1  1  1  1  1  -60.0       2   0.125\n",
      "10  0  1  0  0  0  1  1  1  -58.0       1     0.0\n",
      "11  0  0  0  0  0  1  1  1  -58.0       1     0.0\n",
      "['BINARY', 12 rows, 100 samples, 8 variables]\n"
     ]
    }
   ],
   "source": [
    "from dwave.system import DWaveSampler, EmbeddingComposite\n",
    "sampler_auto = EmbeddingComposite(DWaveSampler(solver={'qpu': True}))\n",
    "\n",
    "linear = {('q1','q1'):-6, ('q2','q2'):-8, ('q3','q3'):-8, ('q4','q4'):-12, ('q5','q5'):-16, ('q6','q6'):-28, ('q7','q7'):-18, ('q8','q8'):-32}\n",
    "quadratic = {('q1','q2'):8,('q1','q3'):2,('q1','q4'):4,('q1','q5'):2,('q1','q6'):4,('q2','q3'):4,('q2','q4'):8,('q2','q5'):4,('q2','q6'):8,('q3','q4'):8,('q3','q7'):2,('q3','q8'):4,('q4','q7'):4,('q4','q8'):8,('q5','q6'):8,('q5','q7'):2,('q5','q8'):4,('q6','q7'):4,('q6','q8'):8,('q7','q8'):8}\n",
    "\n",
    "Q = dict(linear)\n",
    "Q.update(quadratic)\n",
    "\n",
    "sampleset = sampler_auto.sample_qubo(Q, num_reads=100)\n",
    "print(sampleset)"
   ]
  },
  {
   "cell_type": "code",
   "execution_count": 13,
   "id": "1754f3d4",
   "metadata": {},
   "outputs": [
    {
     "name": "stdout",
     "output_type": "stream",
     "text": [
      "0.0\n"
     ]
    },
    {
     "data": {
      "image/png": "[encoded data removed]",
      "text/plain": [
       "<Figure size 432x288 with 1 Axes>"
      ]
     },
     "metadata": {
      "needs_background": "light"
     },
     "output_type": "display_data"
    }
   ],
   "source": [
    "CT = np.zeros((2,2))\n",
    "CT[0][0] = 0\n",
    "CT[0][1] = 1\n",
    "CT[1][0] = 3\n",
    "CT[1][1] = 3\n",
    "print (CT[0][0])\n",
    "plt.figure()           \n",
    "plt.title('Reconstructed CT Image')\n",
    "plt.imshow(CT, vmin=rd_min, vmax=rd_max)\n",
    "plt.show()"
   ]
  },
  {
   "cell_type": "code",
   "execution_count": 13,
   "id": "97cfda0c",
   "metadata": {},
   "outputs": [
    {
     "name": "stdout",
     "output_type": "stream",
     "text": [
      "a00 is 1.0\n",
      "a01 is 1.0\n",
      "a10 is 0.0\n",
      "a11 is 0.0\n"
     ]
    },
    {
     "data": {
      "image/png": "[encoded data removed]",
      "text/plain": [
       "<Figure size 432x288 with 1 Axes>"
      ]
     },
     "metadata": {
      "needs_background": "light"
     },
     "output_type": "display_data"
    },
    {
     "data": {
      "image/png": "[encoded data removed]",
      "text/plain": [
       "<Figure size 432x288 with 1 Axes>"
      ]
     },
     "metadata": {
      "needs_background": "light"
     },
     "output_type": "display_data"
    }
   ],
   "source": [
    "# two line intersection, two dimenstional linear system\n",
    "\n",
    "# a1*x + b1*y = c1\n",
    "# a2*x + b2*y = c2\n",
    "import numpy as np\n",
    "import random, math\n",
    "import copy\n",
    "import matplotlib.pyplot as plt\n",
    "import cv2\n",
    "\n",
    "## binary CT image with 2 by 2\n",
    "# for 2 by 2 CT image reconstruction, we need 2 projections\n",
    "# CT image      projection with 0 degree    90degree\n",
    "# a00 a01       sino00 = a00+a10            sino01 = a10+a11\n",
    "# a10 a11       sino10 = a01+a11            sino11 = a00+a01\n",
    "\n",
    "a = np.zeros((2,2))\n",
    "sino = np.zeros((2,2))\n",
    "\n",
    "# we make an image 'a' to make a sinogram 'sino'.\n",
    "# our assumption is we don't know a cross sectional area 'a'\n",
    "a[0][0] = random.randint(0, 1)\n",
    "a[0][1] = random.randint(0, 1)\n",
    "a[1][0] = random.randint(0, 1)\n",
    "a[1][1] = random.randint(0, 1)\n",
    "\n",
    "# variables are x and y\n",
    "sino[0][0] = a[0][0]+a[1][0]\n",
    "sino[1][0] = a[0][1]+a[1][1]\n",
    "sino[0][1] = a[1][0]+a[1][1]\n",
    "sino[1][1] = a[0][0]+a[0][1]\n",
    "\n",
    "print('a00 is',a[0][0])\n",
    "print('a01 is',a[0][1])\n",
    "print('a10 is',a[1][0])\n",
    "print('a11 is',a[1][1])\n",
    "\n",
    "print('sino00 is',sino[0][0])\n",
    "print('sino01 is',sino[0][1])\n",
    "print('sino10 is',sino[1][0])\n",
    "print('sino11 is',sino[1][1])\n",
    "\n",
    "plt.figure()           \n",
    "plt.title('Random CT Image')\n",
    "plt.imshow(a, vmin=0, vmax=1)\n",
    "plt.show()\n",
    "\n",
    "plt.figure()\n",
    "plt.title('Sinogram')\n",
    "plt.xlabel('Parallel Rotation Angle - \\u03B8 (degrees)')\n",
    "plt.ylabel('Parallel Sensor Position - x $\\prime$ (pixels)')\n",
    "plt.imshow(sino, aspect='auto', extent=[0,180,2,0])\n",
    "plt.show()\n",
    "\n",
    "# Assumption is we don't know array 'a'"
   ]
  },
  {
   "cell_type": "code",
   "execution_count": 14,
   "id": "f3b2a0af",
   "metadata": {},
   "outputs": [
    {
     "name": "stdout",
     "output_type": "stream",
     "text": [
      "q1 is -4.0\n",
      "q2 is -4.0\n",
      "q3 is 0.0\n",
      "q4 is 0.0\n",
      "q1q2 is 2\n",
      "q1q3 is 2\n",
      "q2q4 is 2\n",
      "q3q4 is 2\n"
     ]
    }
   ],
   "source": [
    "q1 = 1 - 2*sino[0][0] + 1 - 2*sino[1][1]   # coefficient of q1 (linear term)\n",
    "q2 = 1 - 2*sino[1][0] + 1 - 2*sino[1][1]\n",
    "q3 = 1 - 2*sino[0][0] + 1 - 2*sino[0][1]\n",
    "q4 = 1 - 2*sino[1][0] + 1 - 2*sino[0][1]\n",
    "q1q2 = 2    # coefficient of q1q2 (quadratic term)\n",
    "q1q3 = 2 \n",
    "q2q4 = 2\n",
    "q3q4 = 2\n",
    "\n",
    "print('q1 is',q1)\n",
    "print('q2 is',q2)\n",
    "print('q3 is',q3)\n",
    "print('q4 is',q4)\n",
    "print('q1q2 is',q1q2)\n",
    "print('q1q3 is',q1q3)\n",
    "print('q2q4 is',q2q4)\n",
    "print('q3q4 is',q3q4)"
   ]
  },
  {
   "cell_type": "code",
   "execution_count": 15,
   "id": "dfcd68c3",
   "metadata": {},
   "outputs": [
    {
     "name": "stdout",
     "output_type": "stream",
     "text": [
      "  q1 q2 q3 q4 energy num_oc. chain_.\n",
      "0  1  1  0  0   -6.0     100     0.0\n",
      "['BINARY', 1 rows, 100 samples, 4 variables]\n"
     ]
    }
   ],
   "source": [
    "from dwave.system import DWaveSampler, EmbeddingComposite\n",
    "sampler_auto = EmbeddingComposite(DWaveSampler(solver={'qpu': True}))\n",
    "\n",
    "linear = {('q1','q1'):-4, ('q2','q2'):-4, ('q3','q3'):0, ('q4','q4'):0}\n",
    "quadratic = {('q1','q2'):2,('q1','q3'):2,('q2','q4'):2,('q3','q4'):2}\n",
    "\n",
    "Q = dict(linear)\n",
    "Q.update(quadratic)\n",
    "\n",
    "sampleset = sampler_auto.sample_qubo(Q, num_reads=100)\n",
    "print(sampleset)"
   ]
  },
  {
   "cell_type": "code",
   "execution_count": 16,
   "id": "e0ab9ac9",
   "metadata": {},
   "outputs": [
    {
     "name": "stdout",
     "output_type": "stream",
     "text": [
      "1.0\n"
     ]
    },
    {
     "data": {
      "image/png": "[encoded data removed]",
      "text/plain": [
       "<Figure size 432x288 with 1 Axes>"
      ]
     },
     "metadata": {
      "needs_background": "light"
     },
     "output_type": "display_data"
    }
   ],
   "source": [
    "CT = np.zeros((2,2))\n",
    "CT[0][0] = 1\n",
    "CT[0][1] = 1\n",
    "CT[1][0] = 0\n",
    "CT[1][1] = 0\n",
    "print (CT[0][0])\n",
    "plt.figure()           \n",
    "plt.title('Reconstructed CT Image')\n",
    "plt.imshow(CT, vmin=0, vmax=1)\n",
    "plt.show()"
   ]
  },
  {
   "cell_type": "code",
   "execution_count": null,
   "id": "9f656d97",
   "metadata": {},
   "outputs": [],
   "source": []
  }
 ],
 "metadata": {
  "kernelspec": {
   "display_name": "Python 3 (ipykernel)",
   "language": "python",
   "name": "python3"
  },
  "language_info": {
   "codemirror_mode": {
    "name": "ipython",
    "version": 3
   },
   "file_extension": ".py",
   "mimetype": "text/x-python",
   "name": "python",
   "nbconvert_exporter": "python",
   "pygments_lexer": "ipython3",
   "version": "3.8.13"
  }
 },
 "nbformat": 4,
 "nbformat_minor": 5
}
